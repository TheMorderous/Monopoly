{
  "cells": [
    {
      "cell_type": "markdown",
      "metadata": {
        "id": "ONRiDrP6jtfK"
      },
      "source": [
        "<img src=\"Monopoly.png\" width=\"700\">"
      ]
    },
    {
      "cell_type": "markdown",
      "metadata": {
        "id": "l6O5232yj2KV"
      },
      "source": [
        "# Informe Técnico - Caso Monopoly\n",
        "\n",
        "\n",
        "Integrantes:\n",
        "* Diego Gieminiani G.\n",
        "* Esteban Díaz C.\n",
        "* Marian Moreno O.\n",
        "\n",
        "Docente: Cristian Álvarez      \n",
        "\n",
        "Sección: MLY0100 - 005V"
      ]
    },
    {
      "cell_type": "markdown",
      "metadata": {
        "id": "UvJWWjwnj5Ab"
      },
      "source": [
        "# Caso Machine Learning"
      ]
    },
    {
      "cell_type": "markdown",
      "metadata": {
        "id": "xNGHFtQAj_jI"
      },
      "source": [
        "## Evaluación 1"
      ]
    },
    {
      "cell_type": "markdown",
      "metadata": {
        "id": "zaIWPF4Dj8fp"
      },
      "source": [
        "###CONTEXTO CASO\n",
        "\n",
        "En el presente caso, nos han contactado como equipo de análisis de datos y modelado de Machine Learning para analizar y realizar modelos predictivos al conocido Banco \"Monopoly\".\n",
        "\n",
        "Esta institución financiera se enfrenta al desafío de comprender y predecir el comportamiento de sus clientes. Para abordar este desafío, la institución ha recopilado una amplia gama de datos sobre sus clientes y sus transacciones con tarjeta de crédito, débito, cuentas corrientes, créditos hipotecarios, entre otra gran variedad de datos que poseen de los clientes. Estos datos incluyen información demográfica, financiera y de comportamiento de los clientes en base a sys actividades y transacciones, así como detalles sobre las pagos realizados con sus tarjetas en un determinado tiempo.\n",
        "\n",
        "El objetivo de este caso es utilizar estos datos para desarrollar modelos predictivos que ayuden a la institución financiera a tomar decisiones informadas y por sobre todas las cosas fundamentadas sobre cómo actuar e interactuar con sus clientes y también gestionar su cartera de cuentas (tarjetas, montos, facturados, cupos de tarjetas, deudas, entre otras) de manera más efectiva y personalizada para ofrecer un mejor servicio."
      ]
    },
    {
      "cell_type": "markdown",
      "metadata": {
        "id": "DInDURVbuCQS"
      },
      "source": [
        "| Variable          | Descripción                                             |\n",
        "|-------------------|--------------------------------------------------------|\n",
        "| Correlativo       | Identificador cliente                                  |\n",
        "| Región            | Región de Residencia                                   |\n",
        "| Renta             | Renta del cliente                                      |\n",
        "| Sexo              | Sexo                                                   |\n",
        "| Subsegmento       | Subsegmento                                           |\n",
        "| Edad              | Edad                                                   |\n",
        "| Adicional         | Antigüedad del cliente (meses)                         |\n",
        "| CambioPin         | Indicador del cambio de clave secreta de la tarjeta   |\n",
        "| Consumo           | Indicador de Crédito de Consumo                         |\n",
        "| Debito            | Indicador de Tenencia de TD                            |\n",
        "| Ctacte            | Indicador de Cuenta Corriente                          |\n",
        "| Cuentas           | Número de cuentas que tiene el cliente                 |\n",
        "| Hipotecario       | Indicador de Crédito Hipotecario                       |\n",
        "| Internauta        | Indicador de cliente Internauta que usa la web Monopoly|\n",
        "| Monoproducto      | Indicador de si el cliente es solo poseedor de una TC |\n",
        "| TC                | Número de TC que tiene el cliente                      |\n",
        "| Dualidad          | Indicador de Dualidad (Cliente es dual si tiene 2 o más TC) |\n",
        "| CUPO_L1           | Cupo de la tarjeta de crédito para compras nacionales  |\n",
        "| CUPO_MX           | Cupo de la tarjeta de crédito para compras internacionales |\n",
        "| CUPO_L2           | Cupo de la tarjeta de crédito para avances en cuotas  |\n",
        "| Col_T12           | Colocación del cliente en TC en el mes X               |\n",
        "| ColL1TE_T12       | Revolving del cliente en TC en el mes X                |\n",
        "| EeccInt_T12       | Monto internacional exigido en el estado de cuenta del cliente en el mes X |\n",
        "| EeccNac_T12       | Monto nacional exigido en el estado de cuenta del cliente en el mes X |\n",
        "| Fac_T12           | Monto facturado por el cliente en TC en el mes X       |\n",
        "| FacAI_T12         | Monto facturado en avances internacionales por el cliente en TC en el mes X |\n",
        "| FacAN_T12         | Monto facturado en avances nacionales por el cliente en TC en el mes X |\n",
        "| FacCCOT_T12       | Monto facturado en compras en cuotas con tasa por el cliente en TC en el mes X |\n",
        "| FacCCPC_T12       | Monto facturado en compras en cuotas precio contado por el cliente en TC en el mes X |\n",
        "| FacCI_T12         | Monto facturado en compras internacionales por el cliente en TC en el mes X |\n",
        "| FacCN_T12         | Monto facturado en compras nacionales por el cliente en TC en el mes X |\n",
        "| FacCOL_T12        | Monto facturado en avances en cuotas por el cliente en TC en el mes X |\n",
        "| FacDebAtm_T12     | Monto facturado en avances por el cliente en TD en el mes X |\n",
        "| FacDebCom_T12     | Monto facturado en compras por el cliente en TD en el mes X |\n",
        "| FacPAT_T12        | Monto facturado en PAT por el cliente en TC en el mes X |\n",
        "| FlgAct_T12        | Indicador de actividad en el mes X en la TC |\n",
        "| FlgActAI_T12      | Indicador de actividad en avances internacionales en el mes X en la TC |\n",
        "| FlgActAN_T12      | Indicador de actividad en avances nacionales en el mes X in la TC |\n",
        "| FlgActCCOT_T12    | Indicador de actividad en compras nacionales en cuotas con tasa en el mes X en la TC |\n",
        "| FlgActCCPC_T12    | Indicador de actividad en compras nacionales en cuotas precio contado en el mes X en la TC |\n",
        "| FlgActCI_T12      | Indicador de actividad en compras internacionales en el mes X en la TC |\n",
        "| FlgActCN_T12      | Indicador de actividad en compras nacionales en el mes X en la TC |\n",
        "| FlgActCOL_T12     | Indicador de actividad en avances en cuotas con tasa en el mes X en la TC |\n",
        "| FlgActPAT_T12     | Indicador de actividad en PAT en el mes X en la TC |\n",
        "| PagoInt_T12       | Monto de pagos de deuda internacional del cliente en el mes X |\n",
        "| PagoNac_T12       | Monto de pagos de deuda nacional del cliente en el mes X |\n",
        "| Txs_T12           | Número de transacciones realizadas por el cliente en TC en el mes X |\n",
        "| TxsAI_T12         | Número de transacciones en avances internacionales realizadas por el cliente en TC en el mes X |\n",
        "| TxsAN_T12         | Número de transacciones en avances nacionales realizadas por el cliente en TC en el mes X |\n",
        "| TxsCCOT_T12       | Número de transacciones en compras en cuotas con tasa realizadas por el cliente en TC en el mes X |\n",
        "| TxsCCPC_T12       | Número de transacciones en compras en cuotas precio contado realizadas por el cliente en TC en el mes X |\n",
        "| TxsCI_T12         | Número de transacciones en compras internacionales realizadas por el cliente en TC en el mes X |\n",
        "| TxsCN_T12         | Número de transacciones en compras nacionales realizadas por el cliente en TC en el mes X |\n",
        "| TxsCOL_T12        | Número de transacciones en avances en cuotas realizadas por el cliente en TC en el mes X |\n",
        "| TxsDebAtm_T12     | Número de transacciones en avances realizadas por el cliente en TD en el mes X |\n",
        "| TxsDebCom_T12     | Número de transacciones en compras realizadas por el cliente en TD en el mes X |\n",
        "| TxsPAT_T12        | Número de transacciones en PAT realizadas por el cliente en TC en el mes X |\n",
        "| UsoL1_T12         | Monto de deuda en la línea de compras en la TC en el mes X |\n",
        "| UsoL2_T12         | Monto de deuda en la línea de avances en cuotas en la TC en el mes X |\n",
        "| UsoLI_T12         | Monto de deuda en la línea de compras internacionales en la TC en el mes X |\n"
      ]
    },
    {
      "cell_type": "markdown",
      "metadata": {
        "id": "zVU0fOez_Ot6"
      },
      "source": [
        "## Fase 1: Business Understanding"
      ]
    },
    {
      "cell_type": "markdown",
      "metadata": {
        "id": "mjUA-tUUuOlD"
      },
      "source": [
        "###Visión General de los datos"
      ]
    },
    {
      "cell_type": "code",
      "execution_count": 172,
      "metadata": {
        "id": "pFbxkMOm-mKm"
      },
      "outputs": [],
      "source": [
        "# Importamos librerías\n",
        "\n",
        "import pandas as pd\n",
        "import numpy as np\n",
        "import seaborn as sb\n",
        "import matplotlib.pyplot as plt\n"
      ]
    },
    {
      "cell_type": "code",
      "execution_count": 173,
      "metadata": {
        "id": "tFJs79Lzvtma"
      },
      "outputs": [],
      "source": [
        "df = pd.read_csv('Base_clientes_Monopoly.csv', sep=';', low_memory=False)\n"
      ]
    },
    {
      "cell_type": "markdown",
      "metadata": {
        "id": "Wwx2BxgYAFwO"
      },
      "source": [
        "Bajo el enfoque del modelo CRISP-DM, la comprensión del contexto del negocio se convierte en un elemento esencial tanto para el análisis de datos como para la identificación de los aspectos críticos dentro del ámbito de estudio en esta institución financiera.\n",
        "\n",
        "En el contexto específico de la institución, se nos brinda una orientación general que abarca una descripción detallada de las variables, sus posibles transformaciones, los valores que pueden tomar y sus respectivas explicaciones. Todo esto se realiza con el objetivo de proporcionar una visión más clara y completa de los datos que serán objeto de análisis. Además, esta información nos permite visualizar las posibles relaciones entre las variables, sentando las bases para un análisis y modelado posteriores.\n",
        "\n",
        "La descripción general de los datos también desempeña un papel fundamental al proporcionarnos pistas y suposiciones valiosas, lo que a su vez nos permite formular hipótesis sólidas. Estas hipótesis se convierten en el punto de partida para anticipar las posibles predicciones que podríamos generar mediante el análisis y modelado de este conjunto de datos, lo que resulta crucial en el contexto de una institución financiera para ayudarlos a gestionar de mejor manera su cartera de clientes."
      ]
    },
    {
      "cell_type": "markdown",
      "metadata": {
        "id": "dIeQkLBRAJYQ"
      },
      "source": [
        "## Fase 2: Data Understanding"
      ]
    },
    {
      "cell_type": "markdown",
      "metadata": {
        "id": "H8VWVRXTAUnH"
      },
      "source": [
        "###Visión General de los datos"
      ]
    },
    {
      "cell_type": "code",
      "execution_count": 174,
      "metadata": {
        "colab": {
          "base_uri": "https://localhost:8080/",
          "height": 255
        },
        "id": "Y9whgPf5N3P5",
        "outputId": "1b78aee9-e75f-4c71-9977-b16b78d91f47"
      },
      "outputs": [
        {
          "output_type": "execute_result",
          "data": {
            "text/plain": [
              "   Id  Subsegmento Sexo  Region  Edad   Renta  Antiguedad  Internauta  \\\n",
              "0   1          160    M    13.0    43     NaN         130           1   \n",
              "1   2          160    H    13.0    46  143640          69           1   \n",
              "2   3          170    H    13.0    45  929106          24           1   \n",
              "3   4          151    H    13.0    46  172447         134           0   \n",
              "4   5          170    H    13.0    46  805250         116           0   \n",
              "\n",
              "   Adicional  Dualidad  ...  ColMx_T01  PagoNac_T01  PagoInt_T01  EeccNac_T01  \\\n",
              "0          1         0  ...          0      33000.0            0    1099866.0   \n",
              "1          0         0  ...          0     300000.0            0     214592.0   \n",
              "2          1         0  ...          0     216676.0            0          0.0   \n",
              "3          1         0  ...          0      60000.0            0     272762.0   \n",
              "4          1         1  ...          0     272925.0            0     249562.0   \n",
              "\n",
              "   EeccInt_T01  UsoL1_T01  UsoL2_T01  UsoLI_T01  IndRev_T01 target  \n",
              "0            0    1099866    15080.0          0           R    0.0  \n",
              "1            0     214592    83596.0          0           R    0.0  \n",
              "2            0       7400        0.0          0           T    0.0  \n",
              "3            0     272762    10591.0          0           R    0.0  \n",
              "4            0      75339   377782.0          0           R    0.0  \n",
              "\n",
              "[5 rows x 574 columns]"
            ],
            "text/html": [
              "\n",
              "  <div id=\"df-27b7b147-4e31-4c86-9ba4-d91741cb14b0\" class=\"colab-df-container\">\n",
              "    <div>\n",
              "<style scoped>\n",
              "    .dataframe tbody tr th:only-of-type {\n",
              "        vertical-align: middle;\n",
              "    }\n",
              "\n",
              "    .dataframe tbody tr th {\n",
              "        vertical-align: top;\n",
              "    }\n",
              "\n",
              "    .dataframe thead th {\n",
              "        text-align: right;\n",
              "    }\n",
              "</style>\n",
              "<table border=\"1\" class=\"dataframe\">\n",
              "  <thead>\n",
              "    <tr style=\"text-align: right;\">\n",
              "      <th></th>\n",
              "      <th>Id</th>\n",
              "      <th>Subsegmento</th>\n",
              "      <th>Sexo</th>\n",
              "      <th>Region</th>\n",
              "      <th>Edad</th>\n",
              "      <th>Renta</th>\n",
              "      <th>Antiguedad</th>\n",
              "      <th>Internauta</th>\n",
              "      <th>Adicional</th>\n",
              "      <th>Dualidad</th>\n",
              "      <th>...</th>\n",
              "      <th>ColMx_T01</th>\n",
              "      <th>PagoNac_T01</th>\n",
              "      <th>PagoInt_T01</th>\n",
              "      <th>EeccNac_T01</th>\n",
              "      <th>EeccInt_T01</th>\n",
              "      <th>UsoL1_T01</th>\n",
              "      <th>UsoL2_T01</th>\n",
              "      <th>UsoLI_T01</th>\n",
              "      <th>IndRev_T01</th>\n",
              "      <th>target</th>\n",
              "    </tr>\n",
              "  </thead>\n",
              "  <tbody>\n",
              "    <tr>\n",
              "      <th>0</th>\n",
              "      <td>1</td>\n",
              "      <td>160</td>\n",
              "      <td>M</td>\n",
              "      <td>13.0</td>\n",
              "      <td>43</td>\n",
              "      <td>NaN</td>\n",
              "      <td>130</td>\n",
              "      <td>1</td>\n",
              "      <td>1</td>\n",
              "      <td>0</td>\n",
              "      <td>...</td>\n",
              "      <td>0</td>\n",
              "      <td>33000.0</td>\n",
              "      <td>0</td>\n",
              "      <td>1099866.0</td>\n",
              "      <td>0</td>\n",
              "      <td>1099866</td>\n",
              "      <td>15080.0</td>\n",
              "      <td>0</td>\n",
              "      <td>R</td>\n",
              "      <td>0.0</td>\n",
              "    </tr>\n",
              "    <tr>\n",
              "      <th>1</th>\n",
              "      <td>2</td>\n",
              "      <td>160</td>\n",
              "      <td>H</td>\n",
              "      <td>13.0</td>\n",
              "      <td>46</td>\n",
              "      <td>143640</td>\n",
              "      <td>69</td>\n",
              "      <td>1</td>\n",
              "      <td>0</td>\n",
              "      <td>0</td>\n",
              "      <td>...</td>\n",
              "      <td>0</td>\n",
              "      <td>300000.0</td>\n",
              "      <td>0</td>\n",
              "      <td>214592.0</td>\n",
              "      <td>0</td>\n",
              "      <td>214592</td>\n",
              "      <td>83596.0</td>\n",
              "      <td>0</td>\n",
              "      <td>R</td>\n",
              "      <td>0.0</td>\n",
              "    </tr>\n",
              "    <tr>\n",
              "      <th>2</th>\n",
              "      <td>3</td>\n",
              "      <td>170</td>\n",
              "      <td>H</td>\n",
              "      <td>13.0</td>\n",
              "      <td>45</td>\n",
              "      <td>929106</td>\n",
              "      <td>24</td>\n",
              "      <td>1</td>\n",
              "      <td>1</td>\n",
              "      <td>0</td>\n",
              "      <td>...</td>\n",
              "      <td>0</td>\n",
              "      <td>216676.0</td>\n",
              "      <td>0</td>\n",
              "      <td>0.0</td>\n",
              "      <td>0</td>\n",
              "      <td>7400</td>\n",
              "      <td>0.0</td>\n",
              "      <td>0</td>\n",
              "      <td>T</td>\n",
              "      <td>0.0</td>\n",
              "    </tr>\n",
              "    <tr>\n",
              "      <th>3</th>\n",
              "      <td>4</td>\n",
              "      <td>151</td>\n",
              "      <td>H</td>\n",
              "      <td>13.0</td>\n",
              "      <td>46</td>\n",
              "      <td>172447</td>\n",
              "      <td>134</td>\n",
              "      <td>0</td>\n",
              "      <td>1</td>\n",
              "      <td>0</td>\n",
              "      <td>...</td>\n",
              "      <td>0</td>\n",
              "      <td>60000.0</td>\n",
              "      <td>0</td>\n",
              "      <td>272762.0</td>\n",
              "      <td>0</td>\n",
              "      <td>272762</td>\n",
              "      <td>10591.0</td>\n",
              "      <td>0</td>\n",
              "      <td>R</td>\n",
              "      <td>0.0</td>\n",
              "    </tr>\n",
              "    <tr>\n",
              "      <th>4</th>\n",
              "      <td>5</td>\n",
              "      <td>170</td>\n",
              "      <td>H</td>\n",
              "      <td>13.0</td>\n",
              "      <td>46</td>\n",
              "      <td>805250</td>\n",
              "      <td>116</td>\n",
              "      <td>0</td>\n",
              "      <td>1</td>\n",
              "      <td>1</td>\n",
              "      <td>...</td>\n",
              "      <td>0</td>\n",
              "      <td>272925.0</td>\n",
              "      <td>0</td>\n",
              "      <td>249562.0</td>\n",
              "      <td>0</td>\n",
              "      <td>75339</td>\n",
              "      <td>377782.0</td>\n",
              "      <td>0</td>\n",
              "      <td>R</td>\n",
              "      <td>0.0</td>\n",
              "    </tr>\n",
              "  </tbody>\n",
              "</table>\n",
              "<p>5 rows × 574 columns</p>\n",
              "</div>\n",
              "    <div class=\"colab-df-buttons\">\n",
              "\n",
              "  <div class=\"colab-df-container\">\n",
              "    <button class=\"colab-df-convert\" onclick=\"convertToInteractive('df-27b7b147-4e31-4c86-9ba4-d91741cb14b0')\"\n",
              "            title=\"Convert this dataframe to an interactive table.\"\n",
              "            style=\"display:none;\">\n",
              "\n",
              "  <svg xmlns=\"http://www.w3.org/2000/svg\" height=\"24px\" viewBox=\"0 -960 960 960\">\n",
              "    <path d=\"M120-120v-720h720v720H120Zm60-500h600v-160H180v160Zm220 220h160v-160H400v160Zm0 220h160v-160H400v160ZM180-400h160v-160H180v160Zm440 0h160v-160H620v160ZM180-180h160v-160H180v160Zm440 0h160v-160H620v160Z\"/>\n",
              "  </svg>\n",
              "    </button>\n",
              "\n",
              "  <style>\n",
              "    .colab-df-container {\n",
              "      display:flex;\n",
              "      gap: 12px;\n",
              "    }\n",
              "\n",
              "    .colab-df-convert {\n",
              "      background-color: #E8F0FE;\n",
              "      border: none;\n",
              "      border-radius: 50%;\n",
              "      cursor: pointer;\n",
              "      display: none;\n",
              "      fill: #1967D2;\n",
              "      height: 32px;\n",
              "      padding: 0 0 0 0;\n",
              "      width: 32px;\n",
              "    }\n",
              "\n",
              "    .colab-df-convert:hover {\n",
              "      background-color: #E2EBFA;\n",
              "      box-shadow: 0px 1px 2px rgba(60, 64, 67, 0.3), 0px 1px 3px 1px rgba(60, 64, 67, 0.15);\n",
              "      fill: #174EA6;\n",
              "    }\n",
              "\n",
              "    .colab-df-buttons div {\n",
              "      margin-bottom: 4px;\n",
              "    }\n",
              "\n",
              "    [theme=dark] .colab-df-convert {\n",
              "      background-color: #3B4455;\n",
              "      fill: #D2E3FC;\n",
              "    }\n",
              "\n",
              "    [theme=dark] .colab-df-convert:hover {\n",
              "      background-color: #434B5C;\n",
              "      box-shadow: 0px 1px 3px 1px rgba(0, 0, 0, 0.15);\n",
              "      filter: drop-shadow(0px 1px 2px rgba(0, 0, 0, 0.3));\n",
              "      fill: #FFFFFF;\n",
              "    }\n",
              "  </style>\n",
              "\n",
              "    <script>\n",
              "      const buttonEl =\n",
              "        document.querySelector('#df-27b7b147-4e31-4c86-9ba4-d91741cb14b0 button.colab-df-convert');\n",
              "      buttonEl.style.display =\n",
              "        google.colab.kernel.accessAllowed ? 'block' : 'none';\n",
              "\n",
              "      async function convertToInteractive(key) {\n",
              "        const element = document.querySelector('#df-27b7b147-4e31-4c86-9ba4-d91741cb14b0');\n",
              "        const dataTable =\n",
              "          await google.colab.kernel.invokeFunction('convertToInteractive',\n",
              "                                                    [key], {});\n",
              "        if (!dataTable) return;\n",
              "\n",
              "        const docLinkHtml = 'Like what you see? Visit the ' +\n",
              "          '<a target=\"_blank\" href=https://colab.research.google.com/notebooks/data_table.ipynb>data table notebook</a>'\n",
              "          + ' to learn more about interactive tables.';\n",
              "        element.innerHTML = '';\n",
              "        dataTable['output_type'] = 'display_data';\n",
              "        await google.colab.output.renderOutput(dataTable, element);\n",
              "        const docLink = document.createElement('div');\n",
              "        docLink.innerHTML = docLinkHtml;\n",
              "        element.appendChild(docLink);\n",
              "      }\n",
              "    </script>\n",
              "  </div>\n",
              "\n",
              "\n",
              "<div id=\"df-37d60170-cfeb-4e67-950d-e81798b2f058\">\n",
              "  <button class=\"colab-df-quickchart\" onclick=\"quickchart('df-37d60170-cfeb-4e67-950d-e81798b2f058')\"\n",
              "            title=\"Suggest charts.\"\n",
              "            style=\"display:none;\">\n",
              "\n",
              "<svg xmlns=\"http://www.w3.org/2000/svg\" height=\"24px\"viewBox=\"0 0 24 24\"\n",
              "     width=\"24px\">\n",
              "    <g>\n",
              "        <path d=\"M19 3H5c-1.1 0-2 .9-2 2v14c0 1.1.9 2 2 2h14c1.1 0 2-.9 2-2V5c0-1.1-.9-2-2-2zM9 17H7v-7h2v7zm4 0h-2V7h2v10zm4 0h-2v-4h2v4z\"/>\n",
              "    </g>\n",
              "</svg>\n",
              "  </button>\n",
              "\n",
              "<style>\n",
              "  .colab-df-quickchart {\n",
              "      --bg-color: #E8F0FE;\n",
              "      --fill-color: #1967D2;\n",
              "      --hover-bg-color: #E2EBFA;\n",
              "      --hover-fill-color: #174EA6;\n",
              "      --disabled-fill-color: #AAA;\n",
              "      --disabled-bg-color: #DDD;\n",
              "  }\n",
              "\n",
              "  [theme=dark] .colab-df-quickchart {\n",
              "      --bg-color: #3B4455;\n",
              "      --fill-color: #D2E3FC;\n",
              "      --hover-bg-color: #434B5C;\n",
              "      --hover-fill-color: #FFFFFF;\n",
              "      --disabled-bg-color: #3B4455;\n",
              "      --disabled-fill-color: #666;\n",
              "  }\n",
              "\n",
              "  .colab-df-quickchart {\n",
              "    background-color: var(--bg-color);\n",
              "    border: none;\n",
              "    border-radius: 50%;\n",
              "    cursor: pointer;\n",
              "    display: none;\n",
              "    fill: var(--fill-color);\n",
              "    height: 32px;\n",
              "    padding: 0;\n",
              "    width: 32px;\n",
              "  }\n",
              "\n",
              "  .colab-df-quickchart:hover {\n",
              "    background-color: var(--hover-bg-color);\n",
              "    box-shadow: 0 1px 2px rgba(60, 64, 67, 0.3), 0 1px 3px 1px rgba(60, 64, 67, 0.15);\n",
              "    fill: var(--button-hover-fill-color);\n",
              "  }\n",
              "\n",
              "  .colab-df-quickchart-complete:disabled,\n",
              "  .colab-df-quickchart-complete:disabled:hover {\n",
              "    background-color: var(--disabled-bg-color);\n",
              "    fill: var(--disabled-fill-color);\n",
              "    box-shadow: none;\n",
              "  }\n",
              "\n",
              "  .colab-df-spinner {\n",
              "    border: 2px solid var(--fill-color);\n",
              "    border-color: transparent;\n",
              "    border-bottom-color: var(--fill-color);\n",
              "    animation:\n",
              "      spin 1s steps(1) infinite;\n",
              "  }\n",
              "\n",
              "  @keyframes spin {\n",
              "    0% {\n",
              "      border-color: transparent;\n",
              "      border-bottom-color: var(--fill-color);\n",
              "      border-left-color: var(--fill-color);\n",
              "    }\n",
              "    20% {\n",
              "      border-color: transparent;\n",
              "      border-left-color: var(--fill-color);\n",
              "      border-top-color: var(--fill-color);\n",
              "    }\n",
              "    30% {\n",
              "      border-color: transparent;\n",
              "      border-left-color: var(--fill-color);\n",
              "      border-top-color: var(--fill-color);\n",
              "      border-right-color: var(--fill-color);\n",
              "    }\n",
              "    40% {\n",
              "      border-color: transparent;\n",
              "      border-right-color: var(--fill-color);\n",
              "      border-top-color: var(--fill-color);\n",
              "    }\n",
              "    60% {\n",
              "      border-color: transparent;\n",
              "      border-right-color: var(--fill-color);\n",
              "    }\n",
              "    80% {\n",
              "      border-color: transparent;\n",
              "      border-right-color: var(--fill-color);\n",
              "      border-bottom-color: var(--fill-color);\n",
              "    }\n",
              "    90% {\n",
              "      border-color: transparent;\n",
              "      border-bottom-color: var(--fill-color);\n",
              "    }\n",
              "  }\n",
              "</style>\n",
              "\n",
              "  <script>\n",
              "    async function quickchart(key) {\n",
              "      const quickchartButtonEl =\n",
              "        document.querySelector('#' + key + ' button');\n",
              "      quickchartButtonEl.disabled = true;  // To prevent multiple clicks.\n",
              "      quickchartButtonEl.classList.add('colab-df-spinner');\n",
              "      try {\n",
              "        const charts = await google.colab.kernel.invokeFunction(\n",
              "            'suggestCharts', [key], {});\n",
              "      } catch (error) {\n",
              "        console.error('Error during call to suggestCharts:', error);\n",
              "      }\n",
              "      quickchartButtonEl.classList.remove('colab-df-spinner');\n",
              "      quickchartButtonEl.classList.add('colab-df-quickchart-complete');\n",
              "    }\n",
              "    (() => {\n",
              "      let quickchartButtonEl =\n",
              "        document.querySelector('#df-37d60170-cfeb-4e67-950d-e81798b2f058 button');\n",
              "      quickchartButtonEl.style.display =\n",
              "        google.colab.kernel.accessAllowed ? 'block' : 'none';\n",
              "    })();\n",
              "  </script>\n",
              "</div>\n",
              "    </div>\n",
              "  </div>\n"
            ]
          },
          "metadata": {},
          "execution_count": 174
        }
      ],
      "source": [
        "df.head()"
      ]
    },
    {
      "cell_type": "code",
      "execution_count": 175,
      "metadata": {
        "colab": {
          "base_uri": "https://localhost:8080/"
        },
        "id": "QDc-vGlnAXuD",
        "outputId": "6755da64-0a01-4778-cf66-4ce05edd735d"
      },
      "outputs": [
        {
          "output_type": "execute_result",
          "data": {
            "text/plain": [
              "(20191, 574)"
            ]
          },
          "metadata": {},
          "execution_count": 175
        }
      ],
      "source": [
        "# Obtenemos la cantidad de filas y columnas del dataset (fila,columna)\n",
        "df.shape"
      ]
    },
    {
      "cell_type": "code",
      "execution_count": 176,
      "metadata": {
        "colab": {
          "base_uri": "https://localhost:8080/"
        },
        "id": "Kld4P55DAX7J",
        "outputId": "910a4f32-bb6b-4609-d06f-579df59a9ae6"
      },
      "outputs": [
        {
          "output_type": "execute_result",
          "data": {
            "text/plain": [
              "Index(['Id', 'Subsegmento', 'Sexo', 'Region', 'Edad', 'Renta', 'Antiguedad',\n",
              "       'Internauta', 'Adicional', 'Dualidad',\n",
              "       ...\n",
              "       'ColMx_T01', 'PagoNac_T01', 'PagoInt_T01', 'EeccNac_T01', 'EeccInt_T01',\n",
              "       'UsoL1_T01', 'UsoL2_T01', 'UsoLI_T01', 'IndRev_T01', 'target'],\n",
              "      dtype='object', length=574)"
            ]
          },
          "metadata": {},
          "execution_count": 176
        }
      ],
      "source": [
        "# Columnas del dataset\n",
        "df.columns"
      ]
    },
    {
      "cell_type": "code",
      "execution_count": 177,
      "metadata": {
        "colab": {
          "base_uri": "https://localhost:8080/",
          "height": 255
        },
        "id": "AmQGMoeNAlEG",
        "outputId": "7035923d-fe66-47db-e318-f19baa5b1005"
      },
      "outputs": [
        {
          "output_type": "execute_result",
          "data": {
            "text/plain": [
              "   Id  Subsegmento Sexo  Region  Edad   Renta  Antiguedad  Internauta  \\\n",
              "0   1          160    M    13.0    43     NaN         130           1   \n",
              "1   2          160    H    13.0    46  143640          69           1   \n",
              "2   3          170    H    13.0    45  929106          24           1   \n",
              "3   4          151    H    13.0    46  172447         134           0   \n",
              "4   5          170    H    13.0    46  805250         116           0   \n",
              "\n",
              "   Adicional  Dualidad  ...  ColMx_T01  PagoNac_T01  PagoInt_T01  EeccNac_T01  \\\n",
              "0          1         0  ...          0      33000.0            0    1099866.0   \n",
              "1          0         0  ...          0     300000.0            0     214592.0   \n",
              "2          1         0  ...          0     216676.0            0          0.0   \n",
              "3          1         0  ...          0      60000.0            0     272762.0   \n",
              "4          1         1  ...          0     272925.0            0     249562.0   \n",
              "\n",
              "   EeccInt_T01  UsoL1_T01  UsoL2_T01  UsoLI_T01  IndRev_T01 target  \n",
              "0            0    1099866    15080.0          0           R    0.0  \n",
              "1            0     214592    83596.0          0           R    0.0  \n",
              "2            0       7400        0.0          0           T    0.0  \n",
              "3            0     272762    10591.0          0           R    0.0  \n",
              "4            0      75339   377782.0          0           R    0.0  \n",
              "\n",
              "[5 rows x 574 columns]"
            ],
            "text/html": [
              "\n",
              "  <div id=\"df-dbdb4b65-9b9f-4754-81e0-3e11d37996c2\" class=\"colab-df-container\">\n",
              "    <div>\n",
              "<style scoped>\n",
              "    .dataframe tbody tr th:only-of-type {\n",
              "        vertical-align: middle;\n",
              "    }\n",
              "\n",
              "    .dataframe tbody tr th {\n",
              "        vertical-align: top;\n",
              "    }\n",
              "\n",
              "    .dataframe thead th {\n",
              "        text-align: right;\n",
              "    }\n",
              "</style>\n",
              "<table border=\"1\" class=\"dataframe\">\n",
              "  <thead>\n",
              "    <tr style=\"text-align: right;\">\n",
              "      <th></th>\n",
              "      <th>Id</th>\n",
              "      <th>Subsegmento</th>\n",
              "      <th>Sexo</th>\n",
              "      <th>Region</th>\n",
              "      <th>Edad</th>\n",
              "      <th>Renta</th>\n",
              "      <th>Antiguedad</th>\n",
              "      <th>Internauta</th>\n",
              "      <th>Adicional</th>\n",
              "      <th>Dualidad</th>\n",
              "      <th>...</th>\n",
              "      <th>ColMx_T01</th>\n",
              "      <th>PagoNac_T01</th>\n",
              "      <th>PagoInt_T01</th>\n",
              "      <th>EeccNac_T01</th>\n",
              "      <th>EeccInt_T01</th>\n",
              "      <th>UsoL1_T01</th>\n",
              "      <th>UsoL2_T01</th>\n",
              "      <th>UsoLI_T01</th>\n",
              "      <th>IndRev_T01</th>\n",
              "      <th>target</th>\n",
              "    </tr>\n",
              "  </thead>\n",
              "  <tbody>\n",
              "    <tr>\n",
              "      <th>0</th>\n",
              "      <td>1</td>\n",
              "      <td>160</td>\n",
              "      <td>M</td>\n",
              "      <td>13.0</td>\n",
              "      <td>43</td>\n",
              "      <td>NaN</td>\n",
              "      <td>130</td>\n",
              "      <td>1</td>\n",
              "      <td>1</td>\n",
              "      <td>0</td>\n",
              "      <td>...</td>\n",
              "      <td>0</td>\n",
              "      <td>33000.0</td>\n",
              "      <td>0</td>\n",
              "      <td>1099866.0</td>\n",
              "      <td>0</td>\n",
              "      <td>1099866</td>\n",
              "      <td>15080.0</td>\n",
              "      <td>0</td>\n",
              "      <td>R</td>\n",
              "      <td>0.0</td>\n",
              "    </tr>\n",
              "    <tr>\n",
              "      <th>1</th>\n",
              "      <td>2</td>\n",
              "      <td>160</td>\n",
              "      <td>H</td>\n",
              "      <td>13.0</td>\n",
              "      <td>46</td>\n",
              "      <td>143640</td>\n",
              "      <td>69</td>\n",
              "      <td>1</td>\n",
              "      <td>0</td>\n",
              "      <td>0</td>\n",
              "      <td>...</td>\n",
              "      <td>0</td>\n",
              "      <td>300000.0</td>\n",
              "      <td>0</td>\n",
              "      <td>214592.0</td>\n",
              "      <td>0</td>\n",
              "      <td>214592</td>\n",
              "      <td>83596.0</td>\n",
              "      <td>0</td>\n",
              "      <td>R</td>\n",
              "      <td>0.0</td>\n",
              "    </tr>\n",
              "    <tr>\n",
              "      <th>2</th>\n",
              "      <td>3</td>\n",
              "      <td>170</td>\n",
              "      <td>H</td>\n",
              "      <td>13.0</td>\n",
              "      <td>45</td>\n",
              "      <td>929106</td>\n",
              "      <td>24</td>\n",
              "      <td>1</td>\n",
              "      <td>1</td>\n",
              "      <td>0</td>\n",
              "      <td>...</td>\n",
              "      <td>0</td>\n",
              "      <td>216676.0</td>\n",
              "      <td>0</td>\n",
              "      <td>0.0</td>\n",
              "      <td>0</td>\n",
              "      <td>7400</td>\n",
              "      <td>0.0</td>\n",
              "      <td>0</td>\n",
              "      <td>T</td>\n",
              "      <td>0.0</td>\n",
              "    </tr>\n",
              "    <tr>\n",
              "      <th>3</th>\n",
              "      <td>4</td>\n",
              "      <td>151</td>\n",
              "      <td>H</td>\n",
              "      <td>13.0</td>\n",
              "      <td>46</td>\n",
              "      <td>172447</td>\n",
              "      <td>134</td>\n",
              "      <td>0</td>\n",
              "      <td>1</td>\n",
              "      <td>0</td>\n",
              "      <td>...</td>\n",
              "      <td>0</td>\n",
              "      <td>60000.0</td>\n",
              "      <td>0</td>\n",
              "      <td>272762.0</td>\n",
              "      <td>0</td>\n",
              "      <td>272762</td>\n",
              "      <td>10591.0</td>\n",
              "      <td>0</td>\n",
              "      <td>R</td>\n",
              "      <td>0.0</td>\n",
              "    </tr>\n",
              "    <tr>\n",
              "      <th>4</th>\n",
              "      <td>5</td>\n",
              "      <td>170</td>\n",
              "      <td>H</td>\n",
              "      <td>13.0</td>\n",
              "      <td>46</td>\n",
              "      <td>805250</td>\n",
              "      <td>116</td>\n",
              "      <td>0</td>\n",
              "      <td>1</td>\n",
              "      <td>1</td>\n",
              "      <td>...</td>\n",
              "      <td>0</td>\n",
              "      <td>272925.0</td>\n",
              "      <td>0</td>\n",
              "      <td>249562.0</td>\n",
              "      <td>0</td>\n",
              "      <td>75339</td>\n",
              "      <td>377782.0</td>\n",
              "      <td>0</td>\n",
              "      <td>R</td>\n",
              "      <td>0.0</td>\n",
              "    </tr>\n",
              "  </tbody>\n",
              "</table>\n",
              "<p>5 rows × 574 columns</p>\n",
              "</div>\n",
              "    <div class=\"colab-df-buttons\">\n",
              "\n",
              "  <div class=\"colab-df-container\">\n",
              "    <button class=\"colab-df-convert\" onclick=\"convertToInteractive('df-dbdb4b65-9b9f-4754-81e0-3e11d37996c2')\"\n",
              "            title=\"Convert this dataframe to an interactive table.\"\n",
              "            style=\"display:none;\">\n",
              "\n",
              "  <svg xmlns=\"http://www.w3.org/2000/svg\" height=\"24px\" viewBox=\"0 -960 960 960\">\n",
              "    <path d=\"M120-120v-720h720v720H120Zm60-500h600v-160H180v160Zm220 220h160v-160H400v160Zm0 220h160v-160H400v160ZM180-400h160v-160H180v160Zm440 0h160v-160H620v160ZM180-180h160v-160H180v160Zm440 0h160v-160H620v160Z\"/>\n",
              "  </svg>\n",
              "    </button>\n",
              "\n",
              "  <style>\n",
              "    .colab-df-container {\n",
              "      display:flex;\n",
              "      gap: 12px;\n",
              "    }\n",
              "\n",
              "    .colab-df-convert {\n",
              "      background-color: #E8F0FE;\n",
              "      border: none;\n",
              "      border-radius: 50%;\n",
              "      cursor: pointer;\n",
              "      display: none;\n",
              "      fill: #1967D2;\n",
              "      height: 32px;\n",
              "      padding: 0 0 0 0;\n",
              "      width: 32px;\n",
              "    }\n",
              "\n",
              "    .colab-df-convert:hover {\n",
              "      background-color: #E2EBFA;\n",
              "      box-shadow: 0px 1px 2px rgba(60, 64, 67, 0.3), 0px 1px 3px 1px rgba(60, 64, 67, 0.15);\n",
              "      fill: #174EA6;\n",
              "    }\n",
              "\n",
              "    .colab-df-buttons div {\n",
              "      margin-bottom: 4px;\n",
              "    }\n",
              "\n",
              "    [theme=dark] .colab-df-convert {\n",
              "      background-color: #3B4455;\n",
              "      fill: #D2E3FC;\n",
              "    }\n",
              "\n",
              "    [theme=dark] .colab-df-convert:hover {\n",
              "      background-color: #434B5C;\n",
              "      box-shadow: 0px 1px 3px 1px rgba(0, 0, 0, 0.15);\n",
              "      filter: drop-shadow(0px 1px 2px rgba(0, 0, 0, 0.3));\n",
              "      fill: #FFFFFF;\n",
              "    }\n",
              "  </style>\n",
              "\n",
              "    <script>\n",
              "      const buttonEl =\n",
              "        document.querySelector('#df-dbdb4b65-9b9f-4754-81e0-3e11d37996c2 button.colab-df-convert');\n",
              "      buttonEl.style.display =\n",
              "        google.colab.kernel.accessAllowed ? 'block' : 'none';\n",
              "\n",
              "      async function convertToInteractive(key) {\n",
              "        const element = document.querySelector('#df-dbdb4b65-9b9f-4754-81e0-3e11d37996c2');\n",
              "        const dataTable =\n",
              "          await google.colab.kernel.invokeFunction('convertToInteractive',\n",
              "                                                    [key], {});\n",
              "        if (!dataTable) return;\n",
              "\n",
              "        const docLinkHtml = 'Like what you see? Visit the ' +\n",
              "          '<a target=\"_blank\" href=https://colab.research.google.com/notebooks/data_table.ipynb>data table notebook</a>'\n",
              "          + ' to learn more about interactive tables.';\n",
              "        element.innerHTML = '';\n",
              "        dataTable['output_type'] = 'display_data';\n",
              "        await google.colab.output.renderOutput(dataTable, element);\n",
              "        const docLink = document.createElement('div');\n",
              "        docLink.innerHTML = docLinkHtml;\n",
              "        element.appendChild(docLink);\n",
              "      }\n",
              "    </script>\n",
              "  </div>\n",
              "\n",
              "\n",
              "<div id=\"df-cad720b3-a7e1-4b30-b570-43827f7a7ce0\">\n",
              "  <button class=\"colab-df-quickchart\" onclick=\"quickchart('df-cad720b3-a7e1-4b30-b570-43827f7a7ce0')\"\n",
              "            title=\"Suggest charts.\"\n",
              "            style=\"display:none;\">\n",
              "\n",
              "<svg xmlns=\"http://www.w3.org/2000/svg\" height=\"24px\"viewBox=\"0 0 24 24\"\n",
              "     width=\"24px\">\n",
              "    <g>\n",
              "        <path d=\"M19 3H5c-1.1 0-2 .9-2 2v14c0 1.1.9 2 2 2h14c1.1 0 2-.9 2-2V5c0-1.1-.9-2-2-2zM9 17H7v-7h2v7zm4 0h-2V7h2v10zm4 0h-2v-4h2v4z\"/>\n",
              "    </g>\n",
              "</svg>\n",
              "  </button>\n",
              "\n",
              "<style>\n",
              "  .colab-df-quickchart {\n",
              "      --bg-color: #E8F0FE;\n",
              "      --fill-color: #1967D2;\n",
              "      --hover-bg-color: #E2EBFA;\n",
              "      --hover-fill-color: #174EA6;\n",
              "      --disabled-fill-color: #AAA;\n",
              "      --disabled-bg-color: #DDD;\n",
              "  }\n",
              "\n",
              "  [theme=dark] .colab-df-quickchart {\n",
              "      --bg-color: #3B4455;\n",
              "      --fill-color: #D2E3FC;\n",
              "      --hover-bg-color: #434B5C;\n",
              "      --hover-fill-color: #FFFFFF;\n",
              "      --disabled-bg-color: #3B4455;\n",
              "      --disabled-fill-color: #666;\n",
              "  }\n",
              "\n",
              "  .colab-df-quickchart {\n",
              "    background-color: var(--bg-color);\n",
              "    border: none;\n",
              "    border-radius: 50%;\n",
              "    cursor: pointer;\n",
              "    display: none;\n",
              "    fill: var(--fill-color);\n",
              "    height: 32px;\n",
              "    padding: 0;\n",
              "    width: 32px;\n",
              "  }\n",
              "\n",
              "  .colab-df-quickchart:hover {\n",
              "    background-color: var(--hover-bg-color);\n",
              "    box-shadow: 0 1px 2px rgba(60, 64, 67, 0.3), 0 1px 3px 1px rgba(60, 64, 67, 0.15);\n",
              "    fill: var(--button-hover-fill-color);\n",
              "  }\n",
              "\n",
              "  .colab-df-quickchart-complete:disabled,\n",
              "  .colab-df-quickchart-complete:disabled:hover {\n",
              "    background-color: var(--disabled-bg-color);\n",
              "    fill: var(--disabled-fill-color);\n",
              "    box-shadow: none;\n",
              "  }\n",
              "\n",
              "  .colab-df-spinner {\n",
              "    border: 2px solid var(--fill-color);\n",
              "    border-color: transparent;\n",
              "    border-bottom-color: var(--fill-color);\n",
              "    animation:\n",
              "      spin 1s steps(1) infinite;\n",
              "  }\n",
              "\n",
              "  @keyframes spin {\n",
              "    0% {\n",
              "      border-color: transparent;\n",
              "      border-bottom-color: var(--fill-color);\n",
              "      border-left-color: var(--fill-color);\n",
              "    }\n",
              "    20% {\n",
              "      border-color: transparent;\n",
              "      border-left-color: var(--fill-color);\n",
              "      border-top-color: var(--fill-color);\n",
              "    }\n",
              "    30% {\n",
              "      border-color: transparent;\n",
              "      border-left-color: var(--fill-color);\n",
              "      border-top-color: var(--fill-color);\n",
              "      border-right-color: var(--fill-color);\n",
              "    }\n",
              "    40% {\n",
              "      border-color: transparent;\n",
              "      border-right-color: var(--fill-color);\n",
              "      border-top-color: var(--fill-color);\n",
              "    }\n",
              "    60% {\n",
              "      border-color: transparent;\n",
              "      border-right-color: var(--fill-color);\n",
              "    }\n",
              "    80% {\n",
              "      border-color: transparent;\n",
              "      border-right-color: var(--fill-color);\n",
              "      border-bottom-color: var(--fill-color);\n",
              "    }\n",
              "    90% {\n",
              "      border-color: transparent;\n",
              "      border-bottom-color: var(--fill-color);\n",
              "    }\n",
              "  }\n",
              "</style>\n",
              "\n",
              "  <script>\n",
              "    async function quickchart(key) {\n",
              "      const quickchartButtonEl =\n",
              "        document.querySelector('#' + key + ' button');\n",
              "      quickchartButtonEl.disabled = true;  // To prevent multiple clicks.\n",
              "      quickchartButtonEl.classList.add('colab-df-spinner');\n",
              "      try {\n",
              "        const charts = await google.colab.kernel.invokeFunction(\n",
              "            'suggestCharts', [key], {});\n",
              "      } catch (error) {\n",
              "        console.error('Error during call to suggestCharts:', error);\n",
              "      }\n",
              "      quickchartButtonEl.classList.remove('colab-df-spinner');\n",
              "      quickchartButtonEl.classList.add('colab-df-quickchart-complete');\n",
              "    }\n",
              "    (() => {\n",
              "      let quickchartButtonEl =\n",
              "        document.querySelector('#df-cad720b3-a7e1-4b30-b570-43827f7a7ce0 button');\n",
              "      quickchartButtonEl.style.display =\n",
              "        google.colab.kernel.accessAllowed ? 'block' : 'none';\n",
              "    })();\n",
              "  </script>\n",
              "</div>\n",
              "    </div>\n",
              "  </div>\n"
            ]
          },
          "metadata": {},
          "execution_count": 177
        }
      ],
      "source": [
        "# Columnas del dataset\n",
        "df.head()"
      ]
    },
    {
      "cell_type": "code",
      "execution_count": 178,
      "metadata": {
        "colab": {
          "base_uri": "https://localhost:8080/",
          "height": 255
        },
        "id": "JFj3BqYQAoz9",
        "outputId": "c3ec6620-cc78-41ee-d2b8-63609abc91ec"
      },
      "outputs": [
        {
          "output_type": "execute_result",
          "data": {
            "text/plain": [
              "          Id  Subsegmento Sexo  Region  Edad   Renta  Antiguedad  Internauta  \\\n",
              "6170    6171          160    H    11.0    33  567351          38           1   \n",
              "11178  11179          170    H    13.0    36  649957          14           1   \n",
              "10216  10217          160    M    13.0    42  469327          18           1   \n",
              "7855    7856          160    H     5.0    41  473351          37           0   \n",
              "19248  19249          160    H    13.0    34  489726          37           1   \n",
              "\n",
              "       Adicional  Dualidad  ...  ColMx_T01  PagoNac_T01  PagoInt_T01  \\\n",
              "6170           1         1  ...          0      62432.0            0   \n",
              "11178          0         0  ...          0      15146.0            0   \n",
              "10216          0         1  ...          0          0.0            0   \n",
              "7855           0         0  ...          0      12079.0            0   \n",
              "19248          0         0  ...          0      54103.0            0   \n",
              "\n",
              "       EeccNac_T01  EeccInt_T01  UsoL1_T01  UsoL2_T01  UsoLI_T01  IndRev_T01  \\\n",
              "6170       90108.0            0     108108    64077.0          0           R   \n",
              "11178      24958.0            0      65458    90494.0          0           T   \n",
              "10216     363670.0            0     363670    93788.0          0           R   \n",
              "7855       12082.0        -5,38      12082    46482.0          0           R   \n",
              "19248      54103.0            0          0   698330.0          0           R   \n",
              "\n",
              "      target  \n",
              "6170     0.0  \n",
              "11178    0.0  \n",
              "10216    0.0  \n",
              "7855     0.0  \n",
              "19248    1.0  \n",
              "\n",
              "[5 rows x 574 columns]"
            ],
            "text/html": [
              "\n",
              "  <div id=\"df-11e6e176-5ee0-4f1b-bdb5-4cf84a7adbbe\" class=\"colab-df-container\">\n",
              "    <div>\n",
              "<style scoped>\n",
              "    .dataframe tbody tr th:only-of-type {\n",
              "        vertical-align: middle;\n",
              "    }\n",
              "\n",
              "    .dataframe tbody tr th {\n",
              "        vertical-align: top;\n",
              "    }\n",
              "\n",
              "    .dataframe thead th {\n",
              "        text-align: right;\n",
              "    }\n",
              "</style>\n",
              "<table border=\"1\" class=\"dataframe\">\n",
              "  <thead>\n",
              "    <tr style=\"text-align: right;\">\n",
              "      <th></th>\n",
              "      <th>Id</th>\n",
              "      <th>Subsegmento</th>\n",
              "      <th>Sexo</th>\n",
              "      <th>Region</th>\n",
              "      <th>Edad</th>\n",
              "      <th>Renta</th>\n",
              "      <th>Antiguedad</th>\n",
              "      <th>Internauta</th>\n",
              "      <th>Adicional</th>\n",
              "      <th>Dualidad</th>\n",
              "      <th>...</th>\n",
              "      <th>ColMx_T01</th>\n",
              "      <th>PagoNac_T01</th>\n",
              "      <th>PagoInt_T01</th>\n",
              "      <th>EeccNac_T01</th>\n",
              "      <th>EeccInt_T01</th>\n",
              "      <th>UsoL1_T01</th>\n",
              "      <th>UsoL2_T01</th>\n",
              "      <th>UsoLI_T01</th>\n",
              "      <th>IndRev_T01</th>\n",
              "      <th>target</th>\n",
              "    </tr>\n",
              "  </thead>\n",
              "  <tbody>\n",
              "    <tr>\n",
              "      <th>6170</th>\n",
              "      <td>6171</td>\n",
              "      <td>160</td>\n",
              "      <td>H</td>\n",
              "      <td>11.0</td>\n",
              "      <td>33</td>\n",
              "      <td>567351</td>\n",
              "      <td>38</td>\n",
              "      <td>1</td>\n",
              "      <td>1</td>\n",
              "      <td>1</td>\n",
              "      <td>...</td>\n",
              "      <td>0</td>\n",
              "      <td>62432.0</td>\n",
              "      <td>0</td>\n",
              "      <td>90108.0</td>\n",
              "      <td>0</td>\n",
              "      <td>108108</td>\n",
              "      <td>64077.0</td>\n",
              "      <td>0</td>\n",
              "      <td>R</td>\n",
              "      <td>0.0</td>\n",
              "    </tr>\n",
              "    <tr>\n",
              "      <th>11178</th>\n",
              "      <td>11179</td>\n",
              "      <td>170</td>\n",
              "      <td>H</td>\n",
              "      <td>13.0</td>\n",
              "      <td>36</td>\n",
              "      <td>649957</td>\n",
              "      <td>14</td>\n",
              "      <td>1</td>\n",
              "      <td>0</td>\n",
              "      <td>0</td>\n",
              "      <td>...</td>\n",
              "      <td>0</td>\n",
              "      <td>15146.0</td>\n",
              "      <td>0</td>\n",
              "      <td>24958.0</td>\n",
              "      <td>0</td>\n",
              "      <td>65458</td>\n",
              "      <td>90494.0</td>\n",
              "      <td>0</td>\n",
              "      <td>T</td>\n",
              "      <td>0.0</td>\n",
              "    </tr>\n",
              "    <tr>\n",
              "      <th>10216</th>\n",
              "      <td>10217</td>\n",
              "      <td>160</td>\n",
              "      <td>M</td>\n",
              "      <td>13.0</td>\n",
              "      <td>42</td>\n",
              "      <td>469327</td>\n",
              "      <td>18</td>\n",
              "      <td>1</td>\n",
              "      <td>0</td>\n",
              "      <td>1</td>\n",
              "      <td>...</td>\n",
              "      <td>0</td>\n",
              "      <td>0.0</td>\n",
              "      <td>0</td>\n",
              "      <td>363670.0</td>\n",
              "      <td>0</td>\n",
              "      <td>363670</td>\n",
              "      <td>93788.0</td>\n",
              "      <td>0</td>\n",
              "      <td>R</td>\n",
              "      <td>0.0</td>\n",
              "    </tr>\n",
              "    <tr>\n",
              "      <th>7855</th>\n",
              "      <td>7856</td>\n",
              "      <td>160</td>\n",
              "      <td>H</td>\n",
              "      <td>5.0</td>\n",
              "      <td>41</td>\n",
              "      <td>473351</td>\n",
              "      <td>37</td>\n",
              "      <td>0</td>\n",
              "      <td>0</td>\n",
              "      <td>0</td>\n",
              "      <td>...</td>\n",
              "      <td>0</td>\n",
              "      <td>12079.0</td>\n",
              "      <td>0</td>\n",
              "      <td>12082.0</td>\n",
              "      <td>-5,38</td>\n",
              "      <td>12082</td>\n",
              "      <td>46482.0</td>\n",
              "      <td>0</td>\n",
              "      <td>R</td>\n",
              "      <td>0.0</td>\n",
              "    </tr>\n",
              "    <tr>\n",
              "      <th>19248</th>\n",
              "      <td>19249</td>\n",
              "      <td>160</td>\n",
              "      <td>H</td>\n",
              "      <td>13.0</td>\n",
              "      <td>34</td>\n",
              "      <td>489726</td>\n",
              "      <td>37</td>\n",
              "      <td>1</td>\n",
              "      <td>0</td>\n",
              "      <td>0</td>\n",
              "      <td>...</td>\n",
              "      <td>0</td>\n",
              "      <td>54103.0</td>\n",
              "      <td>0</td>\n",
              "      <td>54103.0</td>\n",
              "      <td>0</td>\n",
              "      <td>0</td>\n",
              "      <td>698330.0</td>\n",
              "      <td>0</td>\n",
              "      <td>R</td>\n",
              "      <td>1.0</td>\n",
              "    </tr>\n",
              "  </tbody>\n",
              "</table>\n",
              "<p>5 rows × 574 columns</p>\n",
              "</div>\n",
              "    <div class=\"colab-df-buttons\">\n",
              "\n",
              "  <div class=\"colab-df-container\">\n",
              "    <button class=\"colab-df-convert\" onclick=\"convertToInteractive('df-11e6e176-5ee0-4f1b-bdb5-4cf84a7adbbe')\"\n",
              "            title=\"Convert this dataframe to an interactive table.\"\n",
              "            style=\"display:none;\">\n",
              "\n",
              "  <svg xmlns=\"http://www.w3.org/2000/svg\" height=\"24px\" viewBox=\"0 -960 960 960\">\n",
              "    <path d=\"M120-120v-720h720v720H120Zm60-500h600v-160H180v160Zm220 220h160v-160H400v160Zm0 220h160v-160H400v160ZM180-400h160v-160H180v160Zm440 0h160v-160H620v160ZM180-180h160v-160H180v160Zm440 0h160v-160H620v160Z\"/>\n",
              "  </svg>\n",
              "    </button>\n",
              "\n",
              "  <style>\n",
              "    .colab-df-container {\n",
              "      display:flex;\n",
              "      gap: 12px;\n",
              "    }\n",
              "\n",
              "    .colab-df-convert {\n",
              "      background-color: #E8F0FE;\n",
              "      border: none;\n",
              "      border-radius: 50%;\n",
              "      cursor: pointer;\n",
              "      display: none;\n",
              "      fill: #1967D2;\n",
              "      height: 32px;\n",
              "      padding: 0 0 0 0;\n",
              "      width: 32px;\n",
              "    }\n",
              "\n",
              "    .colab-df-convert:hover {\n",
              "      background-color: #E2EBFA;\n",
              "      box-shadow: 0px 1px 2px rgba(60, 64, 67, 0.3), 0px 1px 3px 1px rgba(60, 64, 67, 0.15);\n",
              "      fill: #174EA6;\n",
              "    }\n",
              "\n",
              "    .colab-df-buttons div {\n",
              "      margin-bottom: 4px;\n",
              "    }\n",
              "\n",
              "    [theme=dark] .colab-df-convert {\n",
              "      background-color: #3B4455;\n",
              "      fill: #D2E3FC;\n",
              "    }\n",
              "\n",
              "    [theme=dark] .colab-df-convert:hover {\n",
              "      background-color: #434B5C;\n",
              "      box-shadow: 0px 1px 3px 1px rgba(0, 0, 0, 0.15);\n",
              "      filter: drop-shadow(0px 1px 2px rgba(0, 0, 0, 0.3));\n",
              "      fill: #FFFFFF;\n",
              "    }\n",
              "  </style>\n",
              "\n",
              "    <script>\n",
              "      const buttonEl =\n",
              "        document.querySelector('#df-11e6e176-5ee0-4f1b-bdb5-4cf84a7adbbe button.colab-df-convert');\n",
              "      buttonEl.style.display =\n",
              "        google.colab.kernel.accessAllowed ? 'block' : 'none';\n",
              "\n",
              "      async function convertToInteractive(key) {\n",
              "        const element = document.querySelector('#df-11e6e176-5ee0-4f1b-bdb5-4cf84a7adbbe');\n",
              "        const dataTable =\n",
              "          await google.colab.kernel.invokeFunction('convertToInteractive',\n",
              "                                                    [key], {});\n",
              "        if (!dataTable) return;\n",
              "\n",
              "        const docLinkHtml = 'Like what you see? Visit the ' +\n",
              "          '<a target=\"_blank\" href=https://colab.research.google.com/notebooks/data_table.ipynb>data table notebook</a>'\n",
              "          + ' to learn more about interactive tables.';\n",
              "        element.innerHTML = '';\n",
              "        dataTable['output_type'] = 'display_data';\n",
              "        await google.colab.output.renderOutput(dataTable, element);\n",
              "        const docLink = document.createElement('div');\n",
              "        docLink.innerHTML = docLinkHtml;\n",
              "        element.appendChild(docLink);\n",
              "      }\n",
              "    </script>\n",
              "  </div>\n",
              "\n",
              "\n",
              "<div id=\"df-15f98a0e-cefc-4d66-ae4f-f0411d6cbb46\">\n",
              "  <button class=\"colab-df-quickchart\" onclick=\"quickchart('df-15f98a0e-cefc-4d66-ae4f-f0411d6cbb46')\"\n",
              "            title=\"Suggest charts.\"\n",
              "            style=\"display:none;\">\n",
              "\n",
              "<svg xmlns=\"http://www.w3.org/2000/svg\" height=\"24px\"viewBox=\"0 0 24 24\"\n",
              "     width=\"24px\">\n",
              "    <g>\n",
              "        <path d=\"M19 3H5c-1.1 0-2 .9-2 2v14c0 1.1.9 2 2 2h14c1.1 0 2-.9 2-2V5c0-1.1-.9-2-2-2zM9 17H7v-7h2v7zm4 0h-2V7h2v10zm4 0h-2v-4h2v4z\"/>\n",
              "    </g>\n",
              "</svg>\n",
              "  </button>\n",
              "\n",
              "<style>\n",
              "  .colab-df-quickchart {\n",
              "      --bg-color: #E8F0FE;\n",
              "      --fill-color: #1967D2;\n",
              "      --hover-bg-color: #E2EBFA;\n",
              "      --hover-fill-color: #174EA6;\n",
              "      --disabled-fill-color: #AAA;\n",
              "      --disabled-bg-color: #DDD;\n",
              "  }\n",
              "\n",
              "  [theme=dark] .colab-df-quickchart {\n",
              "      --bg-color: #3B4455;\n",
              "      --fill-color: #D2E3FC;\n",
              "      --hover-bg-color: #434B5C;\n",
              "      --hover-fill-color: #FFFFFF;\n",
              "      --disabled-bg-color: #3B4455;\n",
              "      --disabled-fill-color: #666;\n",
              "  }\n",
              "\n",
              "  .colab-df-quickchart {\n",
              "    background-color: var(--bg-color);\n",
              "    border: none;\n",
              "    border-radius: 50%;\n",
              "    cursor: pointer;\n",
              "    display: none;\n",
              "    fill: var(--fill-color);\n",
              "    height: 32px;\n",
              "    padding: 0;\n",
              "    width: 32px;\n",
              "  }\n",
              "\n",
              "  .colab-df-quickchart:hover {\n",
              "    background-color: var(--hover-bg-color);\n",
              "    box-shadow: 0 1px 2px rgba(60, 64, 67, 0.3), 0 1px 3px 1px rgba(60, 64, 67, 0.15);\n",
              "    fill: var(--button-hover-fill-color);\n",
              "  }\n",
              "\n",
              "  .colab-df-quickchart-complete:disabled,\n",
              "  .colab-df-quickchart-complete:disabled:hover {\n",
              "    background-color: var(--disabled-bg-color);\n",
              "    fill: var(--disabled-fill-color);\n",
              "    box-shadow: none;\n",
              "  }\n",
              "\n",
              "  .colab-df-spinner {\n",
              "    border: 2px solid var(--fill-color);\n",
              "    border-color: transparent;\n",
              "    border-bottom-color: var(--fill-color);\n",
              "    animation:\n",
              "      spin 1s steps(1) infinite;\n",
              "  }\n",
              "\n",
              "  @keyframes spin {\n",
              "    0% {\n",
              "      border-color: transparent;\n",
              "      border-bottom-color: var(--fill-color);\n",
              "      border-left-color: var(--fill-color);\n",
              "    }\n",
              "    20% {\n",
              "      border-color: transparent;\n",
              "      border-left-color: var(--fill-color);\n",
              "      border-top-color: var(--fill-color);\n",
              "    }\n",
              "    30% {\n",
              "      border-color: transparent;\n",
              "      border-left-color: var(--fill-color);\n",
              "      border-top-color: var(--fill-color);\n",
              "      border-right-color: var(--fill-color);\n",
              "    }\n",
              "    40% {\n",
              "      border-color: transparent;\n",
              "      border-right-color: var(--fill-color);\n",
              "      border-top-color: var(--fill-color);\n",
              "    }\n",
              "    60% {\n",
              "      border-color: transparent;\n",
              "      border-right-color: var(--fill-color);\n",
              "    }\n",
              "    80% {\n",
              "      border-color: transparent;\n",
              "      border-right-color: var(--fill-color);\n",
              "      border-bottom-color: var(--fill-color);\n",
              "    }\n",
              "    90% {\n",
              "      border-color: transparent;\n",
              "      border-bottom-color: var(--fill-color);\n",
              "    }\n",
              "  }\n",
              "</style>\n",
              "\n",
              "  <script>\n",
              "    async function quickchart(key) {\n",
              "      const quickchartButtonEl =\n",
              "        document.querySelector('#' + key + ' button');\n",
              "      quickchartButtonEl.disabled = true;  // To prevent multiple clicks.\n",
              "      quickchartButtonEl.classList.add('colab-df-spinner');\n",
              "      try {\n",
              "        const charts = await google.colab.kernel.invokeFunction(\n",
              "            'suggestCharts', [key], {});\n",
              "      } catch (error) {\n",
              "        console.error('Error during call to suggestCharts:', error);\n",
              "      }\n",
              "      quickchartButtonEl.classList.remove('colab-df-spinner');\n",
              "      quickchartButtonEl.classList.add('colab-df-quickchart-complete');\n",
              "    }\n",
              "    (() => {\n",
              "      let quickchartButtonEl =\n",
              "        document.querySelector('#df-15f98a0e-cefc-4d66-ae4f-f0411d6cbb46 button');\n",
              "      quickchartButtonEl.style.display =\n",
              "        google.colab.kernel.accessAllowed ? 'block' : 'none';\n",
              "    })();\n",
              "  </script>\n",
              "</div>\n",
              "    </div>\n",
              "  </div>\n"
            ]
          },
          "metadata": {},
          "execution_count": 178
        }
      ],
      "source": [
        "df.sample(5)"
      ]
    },
    {
      "cell_type": "code",
      "execution_count": 179,
      "metadata": {
        "colab": {
          "base_uri": "https://localhost:8080/",
          "height": 255
        },
        "id": "eaHvZ3j4Ary5",
        "outputId": "db5c72ad-8d4e-4ed2-a8f3-0b477ec462b8"
      },
      "outputs": [
        {
          "output_type": "execute_result",
          "data": {
            "text/plain": [
              "          Id  Subsegmento Sexo  Region  Edad    Renta  Antiguedad  Internauta  \\\n",
              "20186  20187          220    H    10.0    29  1679574           8           1   \n",
              "20187  20188          220    M     8.0    29      NaN          14           1   \n",
              "20188  20189          160    H    13.0    32   584183          11           1   \n",
              "20189  20190          220    H    13.0    29   639943          16           0   \n",
              "20190  20191          170    H    13.0    32   453521          67           1   \n",
              "\n",
              "       Adicional  Dualidad  ...  ColMx_T01  PagoNac_T01  PagoInt_T01  \\\n",
              "20186          0         0  ...          0          0.0            0   \n",
              "20187          0         0  ...          0      56839.0            0   \n",
              "20188          0         1  ...          0          0.0            0   \n",
              "20189          0         0  ...   13160,13      36000.0            0   \n",
              "20190          0         0  ...        NaN          NaN          NaN   \n",
              "\n",
              "       EeccNac_T01  EeccInt_T01  UsoL1_T01  UsoL2_T01  UsoLI_T01  IndRev_T01  \\\n",
              "20186     349938.0            0     349938   181277.0          0           R   \n",
              "20187      40150.0            0      40150    39377.0          0           T   \n",
              "20188      48522.0            0      48522    88927.0          0           R   \n",
              "20189     146382.0        24,95     146382        0.0      24,95           R   \n",
              "20190          NaN          NaN        NaN        NaN        NaN         NaN   \n",
              "\n",
              "      target  \n",
              "20186    0.0  \n",
              "20187    0.0  \n",
              "20188    0.0  \n",
              "20189    0.0  \n",
              "20190    NaN  \n",
              "\n",
              "[5 rows x 574 columns]"
            ],
            "text/html": [
              "\n",
              "  <div id=\"df-85aec3f8-2c3d-4af1-b089-13df285c7cb3\" class=\"colab-df-container\">\n",
              "    <div>\n",
              "<style scoped>\n",
              "    .dataframe tbody tr th:only-of-type {\n",
              "        vertical-align: middle;\n",
              "    }\n",
              "\n",
              "    .dataframe tbody tr th {\n",
              "        vertical-align: top;\n",
              "    }\n",
              "\n",
              "    .dataframe thead th {\n",
              "        text-align: right;\n",
              "    }\n",
              "</style>\n",
              "<table border=\"1\" class=\"dataframe\">\n",
              "  <thead>\n",
              "    <tr style=\"text-align: right;\">\n",
              "      <th></th>\n",
              "      <th>Id</th>\n",
              "      <th>Subsegmento</th>\n",
              "      <th>Sexo</th>\n",
              "      <th>Region</th>\n",
              "      <th>Edad</th>\n",
              "      <th>Renta</th>\n",
              "      <th>Antiguedad</th>\n",
              "      <th>Internauta</th>\n",
              "      <th>Adicional</th>\n",
              "      <th>Dualidad</th>\n",
              "      <th>...</th>\n",
              "      <th>ColMx_T01</th>\n",
              "      <th>PagoNac_T01</th>\n",
              "      <th>PagoInt_T01</th>\n",
              "      <th>EeccNac_T01</th>\n",
              "      <th>EeccInt_T01</th>\n",
              "      <th>UsoL1_T01</th>\n",
              "      <th>UsoL2_T01</th>\n",
              "      <th>UsoLI_T01</th>\n",
              "      <th>IndRev_T01</th>\n",
              "      <th>target</th>\n",
              "    </tr>\n",
              "  </thead>\n",
              "  <tbody>\n",
              "    <tr>\n",
              "      <th>20186</th>\n",
              "      <td>20187</td>\n",
              "      <td>220</td>\n",
              "      <td>H</td>\n",
              "      <td>10.0</td>\n",
              "      <td>29</td>\n",
              "      <td>1679574</td>\n",
              "      <td>8</td>\n",
              "      <td>1</td>\n",
              "      <td>0</td>\n",
              "      <td>0</td>\n",
              "      <td>...</td>\n",
              "      <td>0</td>\n",
              "      <td>0.0</td>\n",
              "      <td>0</td>\n",
              "      <td>349938.0</td>\n",
              "      <td>0</td>\n",
              "      <td>349938</td>\n",
              "      <td>181277.0</td>\n",
              "      <td>0</td>\n",
              "      <td>R</td>\n",
              "      <td>0.0</td>\n",
              "    </tr>\n",
              "    <tr>\n",
              "      <th>20187</th>\n",
              "      <td>20188</td>\n",
              "      <td>220</td>\n",
              "      <td>M</td>\n",
              "      <td>8.0</td>\n",
              "      <td>29</td>\n",
              "      <td>NaN</td>\n",
              "      <td>14</td>\n",
              "      <td>1</td>\n",
              "      <td>0</td>\n",
              "      <td>0</td>\n",
              "      <td>...</td>\n",
              "      <td>0</td>\n",
              "      <td>56839.0</td>\n",
              "      <td>0</td>\n",
              "      <td>40150.0</td>\n",
              "      <td>0</td>\n",
              "      <td>40150</td>\n",
              "      <td>39377.0</td>\n",
              "      <td>0</td>\n",
              "      <td>T</td>\n",
              "      <td>0.0</td>\n",
              "    </tr>\n",
              "    <tr>\n",
              "      <th>20188</th>\n",
              "      <td>20189</td>\n",
              "      <td>160</td>\n",
              "      <td>H</td>\n",
              "      <td>13.0</td>\n",
              "      <td>32</td>\n",
              "      <td>584183</td>\n",
              "      <td>11</td>\n",
              "      <td>1</td>\n",
              "      <td>0</td>\n",
              "      <td>1</td>\n",
              "      <td>...</td>\n",
              "      <td>0</td>\n",
              "      <td>0.0</td>\n",
              "      <td>0</td>\n",
              "      <td>48522.0</td>\n",
              "      <td>0</td>\n",
              "      <td>48522</td>\n",
              "      <td>88927.0</td>\n",
              "      <td>0</td>\n",
              "      <td>R</td>\n",
              "      <td>0.0</td>\n",
              "    </tr>\n",
              "    <tr>\n",
              "      <th>20189</th>\n",
              "      <td>20190</td>\n",
              "      <td>220</td>\n",
              "      <td>H</td>\n",
              "      <td>13.0</td>\n",
              "      <td>29</td>\n",
              "      <td>639943</td>\n",
              "      <td>16</td>\n",
              "      <td>0</td>\n",
              "      <td>0</td>\n",
              "      <td>0</td>\n",
              "      <td>...</td>\n",
              "      <td>13160,13</td>\n",
              "      <td>36000.0</td>\n",
              "      <td>0</td>\n",
              "      <td>146382.0</td>\n",
              "      <td>24,95</td>\n",
              "      <td>146382</td>\n",
              "      <td>0.0</td>\n",
              "      <td>24,95</td>\n",
              "      <td>R</td>\n",
              "      <td>0.0</td>\n",
              "    </tr>\n",
              "    <tr>\n",
              "      <th>20190</th>\n",
              "      <td>20191</td>\n",
              "      <td>170</td>\n",
              "      <td>H</td>\n",
              "      <td>13.0</td>\n",
              "      <td>32</td>\n",
              "      <td>453521</td>\n",
              "      <td>67</td>\n",
              "      <td>1</td>\n",
              "      <td>0</td>\n",
              "      <td>0</td>\n",
              "      <td>...</td>\n",
              "      <td>NaN</td>\n",
              "      <td>NaN</td>\n",
              "      <td>NaN</td>\n",
              "      <td>NaN</td>\n",
              "      <td>NaN</td>\n",
              "      <td>NaN</td>\n",
              "      <td>NaN</td>\n",
              "      <td>NaN</td>\n",
              "      <td>NaN</td>\n",
              "      <td>NaN</td>\n",
              "    </tr>\n",
              "  </tbody>\n",
              "</table>\n",
              "<p>5 rows × 574 columns</p>\n",
              "</div>\n",
              "    <div class=\"colab-df-buttons\">\n",
              "\n",
              "  <div class=\"colab-df-container\">\n",
              "    <button class=\"colab-df-convert\" onclick=\"convertToInteractive('df-85aec3f8-2c3d-4af1-b089-13df285c7cb3')\"\n",
              "            title=\"Convert this dataframe to an interactive table.\"\n",
              "            style=\"display:none;\">\n",
              "\n",
              "  <svg xmlns=\"http://www.w3.org/2000/svg\" height=\"24px\" viewBox=\"0 -960 960 960\">\n",
              "    <path d=\"M120-120v-720h720v720H120Zm60-500h600v-160H180v160Zm220 220h160v-160H400v160Zm0 220h160v-160H400v160ZM180-400h160v-160H180v160Zm440 0h160v-160H620v160ZM180-180h160v-160H180v160Zm440 0h160v-160H620v160Z\"/>\n",
              "  </svg>\n",
              "    </button>\n",
              "\n",
              "  <style>\n",
              "    .colab-df-container {\n",
              "      display:flex;\n",
              "      gap: 12px;\n",
              "    }\n",
              "\n",
              "    .colab-df-convert {\n",
              "      background-color: #E8F0FE;\n",
              "      border: none;\n",
              "      border-radius: 50%;\n",
              "      cursor: pointer;\n",
              "      display: none;\n",
              "      fill: #1967D2;\n",
              "      height: 32px;\n",
              "      padding: 0 0 0 0;\n",
              "      width: 32px;\n",
              "    }\n",
              "\n",
              "    .colab-df-convert:hover {\n",
              "      background-color: #E2EBFA;\n",
              "      box-shadow: 0px 1px 2px rgba(60, 64, 67, 0.3), 0px 1px 3px 1px rgba(60, 64, 67, 0.15);\n",
              "      fill: #174EA6;\n",
              "    }\n",
              "\n",
              "    .colab-df-buttons div {\n",
              "      margin-bottom: 4px;\n",
              "    }\n",
              "\n",
              "    [theme=dark] .colab-df-convert {\n",
              "      background-color: #3B4455;\n",
              "      fill: #D2E3FC;\n",
              "    }\n",
              "\n",
              "    [theme=dark] .colab-df-convert:hover {\n",
              "      background-color: #434B5C;\n",
              "      box-shadow: 0px 1px 3px 1px rgba(0, 0, 0, 0.15);\n",
              "      filter: drop-shadow(0px 1px 2px rgba(0, 0, 0, 0.3));\n",
              "      fill: #FFFFFF;\n",
              "    }\n",
              "  </style>\n",
              "\n",
              "    <script>\n",
              "      const buttonEl =\n",
              "        document.querySelector('#df-85aec3f8-2c3d-4af1-b089-13df285c7cb3 button.colab-df-convert');\n",
              "      buttonEl.style.display =\n",
              "        google.colab.kernel.accessAllowed ? 'block' : 'none';\n",
              "\n",
              "      async function convertToInteractive(key) {\n",
              "        const element = document.querySelector('#df-85aec3f8-2c3d-4af1-b089-13df285c7cb3');\n",
              "        const dataTable =\n",
              "          await google.colab.kernel.invokeFunction('convertToInteractive',\n",
              "                                                    [key], {});\n",
              "        if (!dataTable) return;\n",
              "\n",
              "        const docLinkHtml = 'Like what you see? Visit the ' +\n",
              "          '<a target=\"_blank\" href=https://colab.research.google.com/notebooks/data_table.ipynb>data table notebook</a>'\n",
              "          + ' to learn more about interactive tables.';\n",
              "        element.innerHTML = '';\n",
              "        dataTable['output_type'] = 'display_data';\n",
              "        await google.colab.output.renderOutput(dataTable, element);\n",
              "        const docLink = document.createElement('div');\n",
              "        docLink.innerHTML = docLinkHtml;\n",
              "        element.appendChild(docLink);\n",
              "      }\n",
              "    </script>\n",
              "  </div>\n",
              "\n",
              "\n",
              "<div id=\"df-c78b8453-654c-40ed-8ec4-7f6e8636004f\">\n",
              "  <button class=\"colab-df-quickchart\" onclick=\"quickchart('df-c78b8453-654c-40ed-8ec4-7f6e8636004f')\"\n",
              "            title=\"Suggest charts.\"\n",
              "            style=\"display:none;\">\n",
              "\n",
              "<svg xmlns=\"http://www.w3.org/2000/svg\" height=\"24px\"viewBox=\"0 0 24 24\"\n",
              "     width=\"24px\">\n",
              "    <g>\n",
              "        <path d=\"M19 3H5c-1.1 0-2 .9-2 2v14c0 1.1.9 2 2 2h14c1.1 0 2-.9 2-2V5c0-1.1-.9-2-2-2zM9 17H7v-7h2v7zm4 0h-2V7h2v10zm4 0h-2v-4h2v4z\"/>\n",
              "    </g>\n",
              "</svg>\n",
              "  </button>\n",
              "\n",
              "<style>\n",
              "  .colab-df-quickchart {\n",
              "      --bg-color: #E8F0FE;\n",
              "      --fill-color: #1967D2;\n",
              "      --hover-bg-color: #E2EBFA;\n",
              "      --hover-fill-color: #174EA6;\n",
              "      --disabled-fill-color: #AAA;\n",
              "      --disabled-bg-color: #DDD;\n",
              "  }\n",
              "\n",
              "  [theme=dark] .colab-df-quickchart {\n",
              "      --bg-color: #3B4455;\n",
              "      --fill-color: #D2E3FC;\n",
              "      --hover-bg-color: #434B5C;\n",
              "      --hover-fill-color: #FFFFFF;\n",
              "      --disabled-bg-color: #3B4455;\n",
              "      --disabled-fill-color: #666;\n",
              "  }\n",
              "\n",
              "  .colab-df-quickchart {\n",
              "    background-color: var(--bg-color);\n",
              "    border: none;\n",
              "    border-radius: 50%;\n",
              "    cursor: pointer;\n",
              "    display: none;\n",
              "    fill: var(--fill-color);\n",
              "    height: 32px;\n",
              "    padding: 0;\n",
              "    width: 32px;\n",
              "  }\n",
              "\n",
              "  .colab-df-quickchart:hover {\n",
              "    background-color: var(--hover-bg-color);\n",
              "    box-shadow: 0 1px 2px rgba(60, 64, 67, 0.3), 0 1px 3px 1px rgba(60, 64, 67, 0.15);\n",
              "    fill: var(--button-hover-fill-color);\n",
              "  }\n",
              "\n",
              "  .colab-df-quickchart-complete:disabled,\n",
              "  .colab-df-quickchart-complete:disabled:hover {\n",
              "    background-color: var(--disabled-bg-color);\n",
              "    fill: var(--disabled-fill-color);\n",
              "    box-shadow: none;\n",
              "  }\n",
              "\n",
              "  .colab-df-spinner {\n",
              "    border: 2px solid var(--fill-color);\n",
              "    border-color: transparent;\n",
              "    border-bottom-color: var(--fill-color);\n",
              "    animation:\n",
              "      spin 1s steps(1) infinite;\n",
              "  }\n",
              "\n",
              "  @keyframes spin {\n",
              "    0% {\n",
              "      border-color: transparent;\n",
              "      border-bottom-color: var(--fill-color);\n",
              "      border-left-color: var(--fill-color);\n",
              "    }\n",
              "    20% {\n",
              "      border-color: transparent;\n",
              "      border-left-color: var(--fill-color);\n",
              "      border-top-color: var(--fill-color);\n",
              "    }\n",
              "    30% {\n",
              "      border-color: transparent;\n",
              "      border-left-color: var(--fill-color);\n",
              "      border-top-color: var(--fill-color);\n",
              "      border-right-color: var(--fill-color);\n",
              "    }\n",
              "    40% {\n",
              "      border-color: transparent;\n",
              "      border-right-color: var(--fill-color);\n",
              "      border-top-color: var(--fill-color);\n",
              "    }\n",
              "    60% {\n",
              "      border-color: transparent;\n",
              "      border-right-color: var(--fill-color);\n",
              "    }\n",
              "    80% {\n",
              "      border-color: transparent;\n",
              "      border-right-color: var(--fill-color);\n",
              "      border-bottom-color: var(--fill-color);\n",
              "    }\n",
              "    90% {\n",
              "      border-color: transparent;\n",
              "      border-bottom-color: var(--fill-color);\n",
              "    }\n",
              "  }\n",
              "</style>\n",
              "\n",
              "  <script>\n",
              "    async function quickchart(key) {\n",
              "      const quickchartButtonEl =\n",
              "        document.querySelector('#' + key + ' button');\n",
              "      quickchartButtonEl.disabled = true;  // To prevent multiple clicks.\n",
              "      quickchartButtonEl.classList.add('colab-df-spinner');\n",
              "      try {\n",
              "        const charts = await google.colab.kernel.invokeFunction(\n",
              "            'suggestCharts', [key], {});\n",
              "      } catch (error) {\n",
              "        console.error('Error during call to suggestCharts:', error);\n",
              "      }\n",
              "      quickchartButtonEl.classList.remove('colab-df-spinner');\n",
              "      quickchartButtonEl.classList.add('colab-df-quickchart-complete');\n",
              "    }\n",
              "    (() => {\n",
              "      let quickchartButtonEl =\n",
              "        document.querySelector('#df-c78b8453-654c-40ed-8ec4-7f6e8636004f button');\n",
              "      quickchartButtonEl.style.display =\n",
              "        google.colab.kernel.accessAllowed ? 'block' : 'none';\n",
              "    })();\n",
              "  </script>\n",
              "</div>\n",
              "    </div>\n",
              "  </div>\n"
            ]
          },
          "metadata": {},
          "execution_count": 179
        }
      ],
      "source": [
        "df.tail()"
      ]
    },
    {
      "cell_type": "markdown",
      "metadata": {
        "id": "KnvR71q7As9I"
      },
      "source": [
        "###Tipos de datos del dataset y tratamiento previo del dataset.\n"
      ]
    },
    {
      "cell_type": "markdown",
      "metadata": {
        "id": "8C_KDZIxCCQF"
      },
      "source": [
        "Antes de avanzar en cualquier análisis, es esencial entender y clasificar los tipos de datos con los que estamos trabajando. Esta exploración no sólo nos proporciona una clara comprensión de la estructura y naturaleza del dataset, sino que también determina las técnicas y herramientas que serán más apropiadas para el estudio de esta institución. Además, en este proceso preliminar, es crucial identificar y tratar los datos nulos o faltantes, ya que su presencia puede sesgar o alterar los resultados. Una correcta gestión de estos elementos nos asegura que las conclusiones derivadas del análisis sean más precisas y confiables."
      ]
    },
    {
      "cell_type": "markdown",
      "metadata": {
        "id": "IGgO99FbCCYJ"
      },
      "source": [
        "####Tipos de datos"
      ]
    },
    {
      "cell_type": "code",
      "execution_count": 180,
      "metadata": {
        "colab": {
          "base_uri": "https://localhost:8080/"
        },
        "id": "aXmqd5Q0CIFT",
        "outputId": "52fe5a14-d225-427d-b78a-170510302be4"
      },
      "outputs": [
        {
          "output_type": "stream",
          "name": "stdout",
          "text": [
            "<class 'pandas.core.frame.DataFrame'>\n",
            "RangeIndex: 20191 entries, 0 to 20190\n",
            "Columns: 574 entries, Id to target\n",
            "dtypes: float64(451), int64(16), object(107)\n",
            "memory usage: 88.4+ MB\n"
          ]
        }
      ],
      "source": [
        "# Realizamos obtención de los tipos de datos del DataSet\n",
        "df.info()"
      ]
    },
    {
      "cell_type": "code",
      "execution_count": 181,
      "metadata": {
        "colab": {
          "base_uri": "https://localhost:8080/"
        },
        "id": "ie5MpF8cCMwF",
        "outputId": "0e6b4330-a083-4101-c6d3-5a418a0eeebf"
      },
      "outputs": [
        {
          "output_type": "stream",
          "name": "stdout",
          "text": [
            "Número de columnas de tipo 'object': 107\n",
            "Nombres de las columnas de tipo 'object':\n",
            "['Sexo', 'Renta', 'CUPO_L2', 'Fac_T12', 'FacCN_T12', 'FacCI_T12', 'FacAI_T12', 'Col_T12', 'ColMx_T12', 'PagoInt_T12', 'EeccInt_T12', 'UsoL1_T12', 'UsoLI_T12', 'IndRev_T12', 'Fac_T11', 'FacCN_T11', 'FacCI_T11', 'FacAI_T11', 'Col_T11', 'ColMx_T11', 'PagoInt_T11', 'EeccInt_T11', 'UsoL1_T11', 'UsoLI_T11', 'IndRev_T11', 'Fac_T10', 'FacCN_T10', 'FacCI_T10', 'FacAI_T10', 'Col_T10', 'ColMx_T10', 'PagoInt_T10', 'EeccInt_T10', 'UsoL1_T10', 'UsoLI_T10', 'IndRev_T10', 'Col_T09', 'ColMx_T09', 'PagoInt_T09', 'EeccInt_T09', 'UsoL1_T09', 'UsoLI_T09', 'IndRev_T09', 'Col_T08', 'ColMx_T08', 'PagoInt_T08', 'EeccInt_T08', 'UsoL1_T08', 'UsoLI_T08', 'IndRev_T08', 'Col_T07', 'ColMx_T07', 'PagoInt_T07', 'EeccInt_T07', 'UsoL1_T07', 'UsoLI_T07', 'IndRev_T07', 'Fac_T06', 'FacCN_T06', 'FacCI_T06', 'FacAI_T06', 'Col_T06', 'ColMx_T06', 'PagoInt_T06', 'EeccInt_T06', 'UsoL1_T06', 'UsoLI_T06', 'IndRev_T06', 'Col_T05', 'ColMx_T05', 'PagoInt_T05', 'EeccInt_T05', 'UsoL1_T05', 'UsoLI_T05', 'IndRev_T05', 'Col_T04', 'ColMx_T04', 'PagoInt_T04', 'EeccInt_T04', 'UsoL1_T04', 'UsoLI_T04', 'IndRev_T04', 'Fac_T03', 'FacCN_T03', 'FacCI_T03', 'FacAI_T03', 'Col_T03', 'ColMx_T03', 'PagoInt_T03', 'EeccInt_T03', 'UsoL1_T03', 'UsoLI_T03', 'IndRev_T03', 'Col_T02', 'ColMx_T02', 'PagoInt_T02', 'EeccInt_T02', 'UsoL1_T02', 'UsoLI_T02', 'IndRev_T02', 'Col_T01', 'ColMx_T01', 'PagoInt_T01', 'EeccInt_T01', 'UsoL1_T01', 'UsoLI_T01', 'IndRev_T01']\n"
          ]
        }
      ],
      "source": [
        "# Filtramos las columnas de tipo 'object'\n",
        "object_columns = df.select_dtypes(include=['object'])\n",
        "\n",
        "# Contamos cuántas columnas son de tipo 'object'\n",
        "num_object_columns = object_columns.shape[1]\n",
        "\n",
        "print(f\"Número de columnas de tipo 'object': {num_object_columns}\")\n",
        "print(\"Nombres de las columnas de tipo 'object':\")\n",
        "print(object_columns.columns.tolist())"
      ]
    },
    {
      "cell_type": "markdown",
      "metadata": {
        "id": "5NibO3bmOFA5"
      },
      "source": [
        "#### Datos nulos del dataset"
      ]
    },
    {
      "cell_type": "code",
      "execution_count": 182,
      "metadata": {
        "colab": {
          "base_uri": "https://localhost:8080/"
        },
        "id": "u1BADpkvOCnq",
        "outputId": "06baefee-35e2-47f2-97b9-bfbec105f363"
      },
      "outputs": [
        {
          "output_type": "execute_result",
          "data": {
            "text/plain": [
              "456402"
            ]
          },
          "metadata": {},
          "execution_count": 182
        }
      ],
      "source": [
        "#Determinamos la cantidad de datos nulos del dataset\n",
        "df.isna().sum().sum()"
      ]
    },
    {
      "cell_type": "code",
      "execution_count": 183,
      "metadata": {
        "colab": {
          "base_uri": "https://localhost:8080/"
        },
        "id": "P-atZ4vMOLTr",
        "outputId": "de67323b-17aa-47d3-b729-2928af8deade"
      },
      "outputs": [
        {
          "output_type": "stream",
          "name": "stdout",
          "text": [
            "              Nulos  Únicos\n",
            "Region           15      13\n",
            "Subsegmento       0      12\n",
            "Sexo              0       2\n",
            "Edad              0      65\n",
            "Adicional         0       2\n",
            "Antiguedad        0     170\n",
            "Consumo           0       2\n",
            "Debito            0       2\n",
            "Ctacte            0       2\n",
            "Cuentas           0       5\n",
            "Hipotecario       0       2\n",
            "Monoproducto      0       2\n",
            "TC                0       9\n",
            "Dualidad          0       2\n",
            "CambioPin      8044       1\n"
          ]
        }
      ],
      "source": [
        "# Función que determina cantidad de nulos y valores que existen en las columnas de interés\n",
        "def resumen1_columnas(df, columnas):\n",
        "    resumen = {}\n",
        "    for columna in columnas:\n",
        "        resumen[columna] = {\n",
        "            \"Nulos\": df[columna].isna().sum(),\n",
        "            \"Únicos\": df[columna].nunique()\n",
        "        }\n",
        "    return pd.DataFrame(resumen).T\n",
        "\n",
        "columnas_interes1 = [\"Region\", \"Subsegmento\", \"Sexo\", \"Edad\", \"Adicional\", \"Antiguedad\", \"Consumo\", \"Debito\", \"Ctacte\", \"Cuentas\", \"Hipotecario\",\n",
        "                     \"Monoproducto\", \"TC\", \"Dualidad\", \"CambioPin\"]\n",
        "resumen = resumen1_columnas(df, columnas_interes1)\n",
        "print(resumen)"
      ]
    },
    {
      "cell_type": "code",
      "execution_count": 184,
      "metadata": {
        "colab": {
          "base_uri": "https://localhost:8080/"
        },
        "id": "wDZRkGO0OO8R",
        "outputId": "d21005d5-0692-48a5-a93c-c9721b238314"
      },
      "outputs": [
        {
          "output_type": "stream",
          "name": "stdout",
          "text": [
            "         Nulos  Únicos\n",
            "CUPO_L1      0    4461\n",
            "CUPO_MX      0    1999\n",
            "CUPO_L2      0    2091\n"
          ]
        }
      ],
      "source": [
        "# Función que determina cantidad de nulos y valores que existen en las columnas de interés\n",
        "def resumen2_columnas(df, columnas):\n",
        "    resumen = {}\n",
        "    for columna in columnas:\n",
        "        resumen[columna] = {\n",
        "            \"Nulos\": df[columna].isna().sum(),\n",
        "            \"Únicos\": df[columna].nunique()\n",
        "        }\n",
        "    return pd.DataFrame(resumen).T\n",
        "\n",
        "columnas_interes2 = [\"CUPO_L1\",\"CUPO_MX\", \"CUPO_L2\"]\n",
        "resumen = resumen2_columnas(df, columnas_interes2)\n",
        "print(resumen)"
      ]
    },
    {
      "cell_type": "code",
      "execution_count": 185,
      "metadata": {
        "colab": {
          "base_uri": "https://localhost:8080/"
        },
        "id": "6PNvlYoWOWP9",
        "outputId": "19bc07b0-ef08-4916-d383-b211cad0f42b"
      },
      "outputs": [
        {
          "output_type": "stream",
          "name": "stdout",
          "text": [
            "                Nulos  Únicos\n",
            "Col_T12          2971   14110\n",
            "ColL1TE_T12      2971    7308\n",
            "EeccInt_T12      2971     840\n",
            "EeccNac_T12      2971   14251\n",
            "Fac_T12          2971    9215\n",
            "FacAI_T12        2971      37\n",
            "FacAN_T12        2971     133\n",
            "FacCCOT_T12      2971    1311\n",
            "FacCCPC_T12      2971    3666\n",
            "FacCI_T12        2971     547\n",
            "FacCN_T12        2971    8108\n",
            "FacCOL_T12       2971      36\n",
            "FacDebAtm_T12    2971    1480\n",
            "FacDebCom_T12    2971    7873\n",
            "FacPAT_T12       2971    1598\n",
            "FlgAct_T12       2971       2\n",
            "FlgActAI_T12     2971       2\n",
            "FlgActAN_T12     2971       2\n",
            "FlgActCCOT_T12   2971       2\n",
            "FlgActCCPC_T12   2971       2\n",
            "FlgActCI_T12     2971       2\n",
            "FlgActCN_T12     2971       2\n",
            "FlgActCOL_T12    2971       2\n",
            "FlgActPAT_T12    2971       2\n",
            "PagoInt_T12      2971      99\n",
            "PagoNac_T12      2971    7004\n",
            "Txs_T12          2971      42\n",
            "TxsAI_T12        2971       7\n",
            "TxsAN_T12        2971       8\n",
            "TxsCCOT_T12      2971       9\n",
            "TxsCCPC_T12      2971      19\n",
            "TxsCI_T12        2971      23\n",
            "TxsCN_T12        2971      40\n",
            "TxsCOL_T12       2971       2\n",
            "TxsDebAtm_T12    2971      71\n",
            "TxsDebCom_T12    2971      78\n",
            "TxsPAT_T12       2971      10\n",
            "UsoL1_T12        2971   13353\n",
            "UsoL2_T12        2971    9050\n",
            "UsoLI_T12        2971     889\n"
          ]
        }
      ],
      "source": [
        "# Función que determina cantidad de nulos y valores que existen en las columnas de interés\n",
        "def resumen3_columnas(df, columnas):\n",
        "    resumen = {}\n",
        "    for columna in columnas:\n",
        "        resumen[columna] = {\n",
        "            \"Nulos\": df[columna].isna().sum(),\n",
        "            \"Únicos\": df[columna].nunique()\n",
        "        }\n",
        "    return pd.DataFrame(resumen).T\n",
        "\n",
        "columnas_interes3 = [\"Col_T12\", \"ColL1TE_T12\", \"EeccInt_T12\", \"EeccNac_T12\", \"Fac_T12\", \"FacAI_T12\",\n",
        "\"FacAN_T12\", \"FacCCOT_T12\", \"FacCCPC_T12\", \"FacCI_T12\", \"FacCN_T12\", \"FacCOL_T12\",\n",
        "\"FacDebAtm_T12\", \"FacDebCom_T12\", \"FacPAT_T12\", \"FlgAct_T12\", \"FlgActAI_T12\", \"FlgActAN_T12\",\"FlgActCCOT_T12\",\n",
        "\"FlgActCCPC_T12\", \"FlgActCI_T12\", \"FlgActCN_T12\", \"FlgActCOL_T12\", \"FlgActPAT_T12\", \"PagoInt_T12\", \"PagoNac_T12\",\n",
        "\"Txs_T12\", \"TxsAI_T12\", \"TxsAN_T12\", \"TxsCCOT_T12\", \"TxsCCPC_T12\", \"TxsCI_T12\", \"TxsCN_T12\",\n",
        "\"TxsCOL_T12\", \"TxsDebAtm_T12\", \"TxsDebCom_T12\", \"TxsPAT_T12\", \"UsoL1_T12\", \"UsoL2_T12\", \"UsoLI_T12\"]\n",
        "resumen = resumen3_columnas(df, columnas_interes3)\n",
        "print(resumen)"
      ]
    },
    {
      "cell_type": "code",
      "execution_count": 186,
      "metadata": {
        "colab": {
          "base_uri": "https://localhost:8080/"
        },
        "id": "JPJJUd4VOaRR",
        "outputId": "4801fb1f-cf5a-4b08-b153-8185a5337d6d"
      },
      "outputs": [
        {
          "output_type": "stream",
          "name": "stdout",
          "text": [
            "Region:  13.0, 9.0, 10.0, 8.0, 7.0, 6.0, 5.0, 12.0, 11.0, 4.0, 1.0, 2.0, 3.0, nan, \n",
            "\n",
            "TC:  3, 1, 2, 4, 5, 6, 7, 8, 12, \n",
            "\n",
            "Sexo:  M, H, \n",
            "\n",
            "Region:  13.0, 9.0, 10.0, 8.0, 7.0, 6.0, 5.0, 12.0, 11.0, 4.0, 1.0, 2.0, 3.0, nan, \n",
            "\n",
            "Consumo:  0, 1, \n",
            "\n",
            "Debito:  1, 0, \n",
            "\n",
            "Ctacte:  1, 0, \n",
            "\n",
            "Hipotecario:  0, 1, \n",
            "\n",
            "Cuentas:  1, 2, 3, 4, 5, \n",
            "\n",
            "Monoproducto:  0, 1, \n",
            "\n",
            "TC:  3, 1, 2, 4, 5, 6, 7, 8, 12, \n",
            "\n",
            "Dualidad:  0, 1, \n",
            "\n",
            "Internauta:  1, 0, \n",
            "\n"
          ]
        }
      ],
      "source": [
        "def valores_unicos_lado_a_lado(df, columnas):\n",
        "    for columna in columnas:\n",
        "        valores_unicos = df[columna].unique()\n",
        "        print(f\"{columna}: \", end=\" \")\n",
        "        for valor in valores_unicos:\n",
        "            print(valor, end=\", \")\n",
        "        print(\"\\n\")\n",
        "\n",
        "# Lista de nombres de columnas\n",
        "columnas_interes = [\"Region\", \"TC\", \"Sexo\", \"Region\", \"Consumo\", \"Debito\", \"Ctacte\",\n",
        "                    \"Hipotecario\", \"Cuentas\", \"Monoproducto\", \"TC\", \"Dualidad\", \"Internauta\"]\n",
        "\n",
        "valores_unicos_lado_a_lado(df, columnas_interes)"
      ]
    },
    {
      "cell_type": "markdown",
      "metadata": {
        "id": "_LaQsp10Oc1z"
      },
      "source": [
        "De los datos anteriormente vistos, identificamos un dataset de 51.124 filas y 574 columnas. Dentro de esta información podemos destacar:\n",
        "\n",
        "() --> Indica la cantidad de datos de ese tipo.\n",
        "\n",
        "*  Tenemos diferentes tipos de datos float64(389), int64(53), object(132).\n",
        "*  Tenemos valores nulos en las columnas **[Renta] (13.365)**, [Region] (53) y [Sexo] (1).\n",
        "*  En particular la columna [Sexo] presenta un **único dato nulo**.\n",
        "*  Cabe mencionar que la columna [Renta] contiene una cantidad considerable de datos nulos.\n",
        "*  Las columnas [Sexo], [Adicional], [Consumo], [Debito], [Ctacte], [Hipotecario], [Monoproducto], [Dualidad], presentan **2 únicos valores** que son **0 y 1**.\n",
        "*  Las columnas [Region], [Subsegmento] y [TC] presentan pocos **valores únicos**.\n",
        "* Las columnas [CUPO_L1], [CUPO_MX], [CUPO_L2] **no presentan valores nulos**.\n",
        "* Todas las columnas como: [Col], [Eecc], monto facturado [Fac], indicadores de actividad [Flg], montos de pago [Pago], número de transacciones [Txs] y monto de deuda en línea [Uso]; todas presentan la misma cantidad de nulos, lo cual parece una anomalía que se podrúa repetir en los X meses a estudiar.\n",
        "\n",
        "Dentro de todo el dataset y teniendo un entendimiento más fundamentado de los datos a estudiar, la fase de Businnes Understanding tenemos datos importantes y agrupaciones que se puedes formar, para analizar, visualizar e interpretar diferentes aspectos de los clientes del banco \"Monopoly.\n",
        "\n",
        "\n",
        "*  En particular la columna [Sexo] presenta un **único dato nulo**. También las columnas [Region] (53), [Sexo] (1) se podrían **imputar con la moda** al ser tan pocos datos nulos.\n",
        "*  Cabe mencionar que la columna [Renta] contiene una cantidad considerable de datos nulos por lo que se podía **imputar con predicciones** (KNN o regresión lineal).\n",
        "*  Las Columnas [Renta] y [Sexo] son de datos de tipo object, por lo que se debe hacer un tratamiento previo para su utilización.\n",
        "*  Podemos deducir que todas las columnas que presenten **2 únicos datos** representan un booleano (True, False).\n",
        "*  Todas las columnas que no presentan valores nulos son de mucha ayuda para poder predecir sucesos."
      ]
    },
    {
      "cell_type": "markdown",
      "metadata": {
        "id": "TAKMZwIsbi0A"
      },
      "source": [
        "ALERTA"
      ]
    },
    {
      "cell_type": "markdown",
      "metadata": {
        "id": "BFXMJ5vaclOV"
      },
      "source": []
    },
    {
      "cell_type": "code",
      "execution_count": 187,
      "metadata": {
        "colab": {
          "base_uri": "https://localhost:8080/"
        },
        "id": "NCfuhO6Kn3YJ",
        "outputId": "703ccca0-1383-4c54-e3fe-d83953178900"
      },
      "outputs": [
        {
          "output_type": "stream",
          "name": "stdout",
          "text": [
            "Columna \"CUPO_MX\":\n",
            "Tipos de datos: {<class 'int'>: 20191}\n",
            "\n",
            "\n",
            "Columna \"CUPO_MX\":\n",
            "Tipos de datos: {<class 'int'>: 20191}\n",
            "\n",
            "\n",
            "Columna \"CUPO_MX\":\n",
            "Tipos de datos: {<class 'int'>: 20191}\n",
            "\n",
            "\n"
          ]
        }
      ],
      "source": [
        "def ver_y_revisar_columnas(df, columnas):\n",
        "    resultados = []\n",
        "    for columna in columnas:\n",
        "        # Recopilar los tipos de datos en la columna\n",
        "        tipos_de_datos = df[columna].apply(type).value_counts().to_dict()\n",
        "\n",
        "        # Agregar los resultados a la lista\n",
        "        resultados.append((columna, tipos_de_datos))\n",
        "\n",
        "    # Imprimir los resultados uno al lado del otro\n",
        "    for resultado in resultados:\n",
        "        print(f'Columna \"{columna}\":')\n",
        "        print(f'Tipos de datos: {tipos_de_datos}')\n",
        "        print(\"\\n\")\n",
        "\n",
        "columnas_a_revisar = [\"Renta\", \"CUPO_L2\", \"CUPO_MX\"]\n",
        "ver_y_revisar_columnas(df, columnas_a_revisar)"
      ]
    },
    {
      "cell_type": "code",
      "execution_count": 188,
      "metadata": {
        "id": "iu3yMmzWZPcj"
      },
      "outputs": [],
      "source": [
        "df[\"Renta\"] = pd.to_numeric(df[\"Renta\"], errors='coerce')\n",
        "df[\"CUPO_L2\"] = pd.to_numeric(df[\"CUPO_L2\"], errors='coerce')\n",
        "df[\"CUPO_MX\"] = pd.to_numeric(df[\"CUPO_MX\"], errors='coerce')"
      ]
    },
    {
      "cell_type": "markdown",
      "metadata": {
        "id": "hOxoi-hlaxqZ"
      },
      "source": [
        "VERIFICACIÓN"
      ]
    },
    {
      "cell_type": "markdown",
      "metadata": {
        "id": "VEX0Vc9WbB-q"
      },
      "source": [
        "Realizamos funcion que"
      ]
    },
    {
      "cell_type": "code",
      "execution_count": 189,
      "metadata": {
        "colab": {
          "base_uri": "https://localhost:8080/"
        },
        "id": "-x2NuU8fbBZ2",
        "outputId": "fb33fa8d-cb52-4df3-8484-6870d09fccdb"
      },
      "outputs": [
        {
          "output_type": "stream",
          "name": "stdout",
          "text": [
            "Columna \"CUPO_MX\":\n",
            "Tipos de datos: {<class 'int'>: 20191}\n",
            "\n",
            "\n",
            "Columna \"CUPO_MX\":\n",
            "Tipos de datos: {<class 'int'>: 20191}\n",
            "\n",
            "\n",
            "Columna \"CUPO_MX\":\n",
            "Tipos de datos: {<class 'int'>: 20191}\n",
            "\n",
            "\n"
          ]
        }
      ],
      "source": [
        "def ver_y_revisar_columnas(df, columnas):\n",
        "    resultados = []\n",
        "    for columna in columnas:\n",
        "        # Recopilar los tipos de datos en la columna\n",
        "        tipos_de_datos = df[columna].apply(type).value_counts().to_dict()\n",
        "\n",
        "        # Agregar los resultados a la lista\n",
        "        resultados.append((columna, tipos_de_datos))\n",
        "\n",
        "    # Imprimir los resultados uno al lado del otro\n",
        "    for resultado in resultados:\n",
        "        print(f'Columna \"{columna}\":')\n",
        "        print(f'Tipos de datos: {tipos_de_datos}')\n",
        "        print(\"\\n\")\n",
        "\n",
        "columnas_a_revisar = [\"Renta\", \"CUPO_L2\", \"CUPO_MX\"]\n",
        "ver_y_revisar_columnas(df, columnas_a_revisar)"
      ]
    },
    {
      "cell_type": "code",
      "execution_count": 190,
      "metadata": {
        "colab": {
          "base_uri": "https://localhost:8080/"
        },
        "id": "AVg-DAQ3SyTy",
        "outputId": "ed2e64ec-3f56-488d-8df6-cdb9889b449f"
      },
      "outputs": [
        {
          "output_type": "stream",
          "name": "stdout",
          "text": [
            "Número de columnas de tipo 'object': 105\n",
            "Nombres de las columnas de tipo 'object':\n",
            "['Sexo', 'Fac_T12', 'FacCN_T12', 'FacCI_T12', 'FacAI_T12', 'Col_T12', 'ColMx_T12', 'PagoInt_T12', 'EeccInt_T12', 'UsoL1_T12', 'UsoLI_T12', 'IndRev_T12', 'Fac_T11', 'FacCN_T11', 'FacCI_T11', 'FacAI_T11', 'Col_T11', 'ColMx_T11', 'PagoInt_T11', 'EeccInt_T11', 'UsoL1_T11', 'UsoLI_T11', 'IndRev_T11', 'Fac_T10', 'FacCN_T10', 'FacCI_T10', 'FacAI_T10', 'Col_T10', 'ColMx_T10', 'PagoInt_T10', 'EeccInt_T10', 'UsoL1_T10', 'UsoLI_T10', 'IndRev_T10', 'Col_T09', 'ColMx_T09', 'PagoInt_T09', 'EeccInt_T09', 'UsoL1_T09', 'UsoLI_T09', 'IndRev_T09', 'Col_T08', 'ColMx_T08', 'PagoInt_T08', 'EeccInt_T08', 'UsoL1_T08', 'UsoLI_T08', 'IndRev_T08', 'Col_T07', 'ColMx_T07', 'PagoInt_T07', 'EeccInt_T07', 'UsoL1_T07', 'UsoLI_T07', 'IndRev_T07', 'Fac_T06', 'FacCN_T06', 'FacCI_T06', 'FacAI_T06', 'Col_T06', 'ColMx_T06', 'PagoInt_T06', 'EeccInt_T06', 'UsoL1_T06', 'UsoLI_T06', 'IndRev_T06', 'Col_T05', 'ColMx_T05', 'PagoInt_T05', 'EeccInt_T05', 'UsoL1_T05', 'UsoLI_T05', 'IndRev_T05', 'Col_T04', 'ColMx_T04', 'PagoInt_T04', 'EeccInt_T04', 'UsoL1_T04', 'UsoLI_T04', 'IndRev_T04', 'Fac_T03', 'FacCN_T03', 'FacCI_T03', 'FacAI_T03', 'Col_T03', 'ColMx_T03', 'PagoInt_T03', 'EeccInt_T03', 'UsoL1_T03', 'UsoLI_T03', 'IndRev_T03', 'Col_T02', 'ColMx_T02', 'PagoInt_T02', 'EeccInt_T02', 'UsoL1_T02', 'UsoLI_T02', 'IndRev_T02', 'Col_T01', 'ColMx_T01', 'PagoInt_T01', 'EeccInt_T01', 'UsoL1_T01', 'UsoLI_T01', 'IndRev_T01']\n"
          ]
        }
      ],
      "source": [
        "# Filtramos las columnas de tipo 'object'\n",
        "object_columns = df.select_dtypes(include=['object'])\n",
        "\n",
        "# Contamos cuántas columnas son de tipo 'object'\n",
        "num_object_columns = object_columns.shape[1]\n",
        "\n",
        "print(f\"Número de columnas de tipo 'object': {num_object_columns}\")\n",
        "print(\"Nombres de las columnas de tipo 'object':\")\n",
        "print(object_columns.columns.tolist())"
      ]
    },
    {
      "cell_type": "code",
      "execution_count": 191,
      "metadata": {
        "id": "y5ihDpOBawxE"
      },
      "outputs": [],
      "source": [
        "def convert_columns_to_float(df, columns):\n",
        "    for column in columns:\n",
        "        try:\n",
        "            # Intenta convertir la columna a float directamente\n",
        "            df[column] = df[column].astype(float)\n",
        "        except ValueError:\n",
        "            # Si hay un error al convertir, reemplaza comas por puntos y luego convierte a float\n",
        "            df[column] = df[column].str.replace(',', '.').astype(float)\n",
        "    return df\n",
        "\n",
        "# Lista de columnas que deseas convertir\n",
        "columns_to_convert = [\n",
        " 'Fac_T12', 'FacCN_T12', 'FacCI_T12', 'FacAI_T12', 'Col_T12', 'ColL1TE_T12', 'ColMx_T12', 'PagoInt_T12', 'EeccNac_T12', 'EeccInt_T12', 'UsoL1_T12', 'UsoLI_T12',\n",
        " 'Fac_T11', 'FacCN_T11', 'FacCI_T11', 'FacAI_T11', 'Col_T11', 'ColL1TE_T11', 'ColMx_T11', 'PagoInt_T11', 'EeccNac_T11', 'EeccInt_T11', 'UsoL1_T11', 'UsoLI_T11',\n",
        " 'Fac_T10', 'FacCN_T10', 'FacCI_T10', 'FacAI_T10', 'Col_T10', 'ColL1TE_T10', 'ColMx_T10', 'PagoInt_T10', 'EeccNac_T10', 'EeccInt_T10', 'UsoL1_T10', 'UsoLI_T10',\n",
        " 'Col_T09', 'ColL1TE_T09', 'ColMx_T09', 'PagoInt_T09', 'EeccNac_T09', 'EeccInt_T09', 'UsoL1_T09', 'UsoLI_T09',\n",
        " 'Col_T08', 'ColL1TE_T08', 'ColMx_T08', 'PagoInt_T08', 'EeccNac_T08', 'EeccInt_T08', 'UsoL1_T08', 'UsoLI_T08',\n",
        " 'Col_T07', 'ColL1TE_T07', 'ColMx_T07', 'PagoInt_T07', 'EeccNac_T07', 'EeccInt_T07', 'UsoL1_T07', 'UsoLI_T07',\n",
        " 'Fac_T06', 'FacCN_T06', 'FacCI_T06', 'FacAI_T06', 'Col_T06', 'ColL1TE_T06', 'ColMx_T06', 'PagoInt_T06', 'EeccNac_T06', 'EeccInt_T06', 'UsoL1_T06', 'UsoLI_T06',\n",
        " 'Col_T05', 'ColL1TE_T05', 'ColMx_T05', 'PagoInt_T05', 'EeccNac_T05', 'EeccInt_T05', 'UsoL1_T05', 'UsoLI_T05',\n",
        " 'Col_T04', 'ColL1TE_T04', 'ColMx_T04', 'PagoInt_T04', 'EeccNac_T04', 'EeccInt_T04', 'UsoL1_T04', 'UsoLI_T04',\n",
        " 'Fac_T03', 'FacCN_T03', 'FacCI_T03', 'FacAI_T03', 'Col_T03', 'ColL1TE_T03', 'ColMx_T03', 'PagoInt_T03', 'EeccNac_T03', 'EeccInt_T03', 'UsoL1_T03', 'UsoLI_T03',\n",
        " 'Col_T02', 'ColL1TE_T02', 'ColMx_T02', 'PagoInt_T02', 'EeccNac_T02', 'EeccInt_T02', 'UsoL1_T02', 'UsoLI_T02',\n",
        " 'Col_T01', 'ColL1TE_T01', 'ColMx_T01', 'PagoInt_T01', 'EeccNac_T01', 'EeccInt_T01', 'UsoL1_T01', 'UsoLI_T01']\n",
        "\n",
        "df = convert_columns_to_float(df, columns_to_convert)\n"
      ]
    },
    {
      "cell_type": "code",
      "execution_count": 192,
      "metadata": {
        "id": "dXTvA681dB_Q"
      },
      "outputs": [],
      "source": [
        "df[\"Sexo\"] = df[\"Sexo\"].astype(\"category\")\n",
        "df[\"IndRev_T12\"] = df[\"IndRev_T12\"].astype(\"category\")\n",
        "df[\"IndRev_T11\"] = df[\"IndRev_T11\"].astype(\"category\")\n",
        "df[\"IndRev_T10\"] = df[\"IndRev_T10\"].astype(\"category\")\n",
        "df[\"IndRev_T09\"] = df[\"IndRev_T09\"].astype(\"category\")\n",
        "df[\"IndRev_T08\"] = df[\"IndRev_T08\"].astype(\"category\")\n",
        "df[\"IndRev_T07\"] = df[\"IndRev_T07\"].astype(\"category\")\n",
        "df[\"IndRev_T06\"] = df[\"IndRev_T06\"].astype(\"category\")\n",
        "df[\"IndRev_T05\"] = df[\"IndRev_T05\"].astype(\"category\")\n",
        "df[\"IndRev_T04\"] = df[\"IndRev_T04\"].astype(\"category\")\n",
        "df[\"IndRev_T03\"] = df[\"IndRev_T03\"].astype(\"category\")\n",
        "df[\"IndRev_T02\"] = df[\"IndRev_T02\"].astype(\"category\")\n",
        "df[\"IndRev_T01\"] = df[\"IndRev_T01\"].astype(\"category\")\n"
      ]
    },
    {
      "cell_type": "markdown",
      "metadata": {
        "id": "hY1K-t2GdDtL"
      },
      "source": [
        "**VERIFICACIÓN** : Conversión datos 'object'\n",
        "\n",
        "- Nuevamente identificamos las columnas con valores faltantes\n",
        "- Valores total de nulos\n",
        "- Cantidad de columnas de tipo 'object': 0"
      ]
    },
    {
      "cell_type": "code",
      "execution_count": 193,
      "metadata": {
        "colab": {
          "base_uri": "https://localhost:8080/"
        },
        "id": "8Em62vStaw6u",
        "outputId": "5b85259a-080b-412c-e2fc-2499488c1153"
      },
      "outputs": [
        {
          "output_type": "stream",
          "name": "stdout",
          "text": [
            "Número de columnas de tipo 'object': 0\n",
            "Nombres de las columnas de tipo 'object':\n",
            "[]\n"
          ]
        }
      ],
      "source": [
        "# Filtramos las columnas de tipo 'object'\n",
        "object_columns = df.select_dtypes(include=['object'])\n",
        "\n",
        "# Contamos cuántas columnas son de tipo 'object'\n",
        "num_object_columns = object_columns.shape[1]\n",
        "\n",
        "print(f\"Número de columnas de tipo 'object': {num_object_columns}\")\n",
        "print(\"Nombres de las columnas de tipo 'object':\")\n",
        "print(object_columns.columns.tolist())"
      ]
    },
    {
      "cell_type": "code",
      "execution_count": 194,
      "metadata": {
        "colab": {
          "base_uri": "https://localhost:8080/"
        },
        "id": "nJ2YMIKweoXU",
        "outputId": "48fe3ac5-2ab4-41ab-9fa9-92a426311aea"
      },
      "outputs": [
        {
          "output_type": "stream",
          "name": "stdout",
          "text": [
            "Index(['Id', 'Subsegmento', 'Edad', 'Antiguedad', 'Internauta', 'Adicional',\n",
            "       'Dualidad', 'Monoproducto', 'Ctacte', 'Consumo', 'Hipotecario',\n",
            "       'Debito', 'Cuentas', 'TC', 'CUPO_L1', 'CUPO_MX'],\n",
            "      dtype='object')\n",
            "Index(['Sexo', 'IndRev_T12', 'IndRev_T11', 'IndRev_T10', 'IndRev_T09',\n",
            "       'IndRev_T08', 'IndRev_T07', 'IndRev_T06', 'IndRev_T05', 'IndRev_T04',\n",
            "       'IndRev_T03', 'IndRev_T02', 'IndRev_T01'],\n",
            "      dtype='object')\n"
          ]
        }
      ],
      "source": [
        "columnas_int64 = df.select_dtypes(include=['int64']).columns\n",
        "columnas_category = df.select_dtypes(include=['category']).columns\n",
        "# Mostrar las columnas int64\n",
        "print(columnas_int64)\n",
        "print(columnas_category)"
      ]
    },
    {
      "cell_type": "code",
      "execution_count": 195,
      "metadata": {
        "colab": {
          "base_uri": "https://localhost:8080/"
        },
        "id": "v9hsNBbVftVF",
        "outputId": "a5c986e8-b123-4d4f-e5bc-0390e9ff04a2"
      },
      "outputs": [
        {
          "output_type": "stream",
          "name": "stdout",
          "text": [
            "Existe una cantidad total de nulos de: 456413\n"
          ]
        }
      ],
      "source": [
        "# Contar la cantidad de valores nulos por columna\n",
        "null_counts = pd.DataFrame(df.isnull().sum(), columns=['Valores Nulos'])\n",
        "\n",
        "# Mostrar la tabla de valores nulos\n",
        "pd.set_option('display.max_rows', None)\n",
        "# print(null_counts)\n",
        "totalNulos = df.isnull().sum().sum()\n",
        "print(\"Existe una cantidad total de nulos de:\", totalNulos)"
      ]
    },
    {
      "cell_type": "code",
      "execution_count": 196,
      "metadata": {
        "colab": {
          "base_uri": "https://localhost:8080/"
        },
        "id": "wk6EGTCcic_J",
        "outputId": "abae2535-5bc6-403b-e960-574e852a63ea"
      },
      "outputs": [
        {
          "output_type": "stream",
          "name": "stdout",
          "text": [
            "Region:  13.0, 9.0, 10.0, 8.0, 7.0, 6.0, 5.0, 12.0, 11.0, 4.0, 1.0, 2.0, 3.0, nan, \n",
            "\n",
            "TC:  3, 1, 2, 4, 5, 6, 7, 8, 12, \n",
            "\n",
            "Sexo:  M, H, \n",
            "\n",
            "Region:  13.0, 9.0, 10.0, 8.0, 7.0, 6.0, 5.0, 12.0, 11.0, 4.0, 1.0, 2.0, 3.0, nan, \n",
            "\n",
            "Consumo:  0, 1, \n",
            "\n",
            "Debito:  1, 0, \n",
            "\n",
            "Ctacte:  1, 0, \n",
            "\n",
            "Hipotecario:  0, 1, \n",
            "\n",
            "Cuentas:  1, 2, 3, 4, 5, \n",
            "\n",
            "Monoproducto:  0, 1, \n",
            "\n",
            "TC:  3, 1, 2, 4, 5, 6, 7, 8, 12, \n",
            "\n",
            "Dualidad:  0, 1, \n",
            "\n",
            "Internauta:  1, 0, \n",
            "\n"
          ]
        }
      ],
      "source": [
        "def valores_unicos_lado_a_lado(df, columnas):\n",
        "    for columna in columnas:\n",
        "        valores_unicos = df[columna].unique()\n",
        "        print(f\"{columna}: \", end=\" \")\n",
        "        for valor in valores_unicos:\n",
        "            print(valor, end=\", \")\n",
        "        print(\"\\n\")\n",
        "\n",
        "# Lista de nombres de columnas\n",
        "columnas_interes = [\"Region\", \"TC\", \"Sexo\", \"Region\", \"Consumo\", \"Debito\", \"Ctacte\",\n",
        "                    \"Hipotecario\", \"Cuentas\", \"Monoproducto\", \"TC\", \"Dualidad\", \"Internauta\"]\n",
        "\n",
        "valores_unicos_lado_a_lado(df, columnas_interes)"
      ]
    },
    {
      "cell_type": "markdown",
      "metadata": {
        "id": "sFlzlDrBiirJ"
      },
      "source": [
        "De los datos anteriormente vistos, identificamos un dataset de 51.124 filas y 574 columnas. Dentro de esta información podemos destacar:\n",
        "\n",
        "() --> Indica la cantidad de datos de ese tipo.\n",
        "\n",
        "*  Tenemos diferentes tipos de datos float64(389), int64(53), object(132).\n",
        "*  Tenemos valores nulos en las columnas **[Renta] (13.365)**, [Region] (53) y [Sexo] (1).\n",
        "*  En particular la columna [Sexo] presenta un **único dato nulo**.\n",
        "*  Cabe mencionar que la columna [Renta] contiene una cantidad considerable de datos nulos.\n",
        "*  Las columnas [Sexo], [Adicional], [Consumo], [Debito], [Ctacte], [Hipotecario], [Monoproducto], [Dualidad], presentan **2 únicos valores** que son **0 y 1**.\n",
        "*  Las columnas [Region], [Subsegmento] y [TC] presentan pocos **valores únicos**.\n",
        "* Las columnas [CUPO_L1], [CUPO_MX], [CUPO_L2] **no presentan valores nulos**.\n",
        "* Todas las columnas como: [Col], [Eecc], monto facturado [Fac], indicadores de actividad [Flg], montos de pago [Pago], número de transacciones [Txs] y monto de deuda en línea [Uso]; todas presentan la misma cantidad de nulos, lo cual parece una anomalía que se podrúa repetir en los X meses a estudiar.\n",
        "\n",
        "Dentro de todo el dataset y teniendo un entendimiento más fundamentado de los datos a estudiar, la fase de Businnes Understanding tenemos datos importantes y agrupaciones que se puedes formar, para analizar, visualizar e interpretar diferentes aspectos de los clientes del banco \"Monopoly.\n",
        "\n",
        "\n",
        "*  En particular la columna [Sexo] presenta un **único dato nulo**. También las columnas [Region] (53), [Sexo] (1) se podrían **imputar con la moda** al ser tan pocos datos nulos.\n",
        "*  Cabe mencionar que la columna [Renta] contiene una cantidad considerable de datos nulos por lo que se podía **imputar con predicciones** (KNN o regresión lineal).\n",
        "*  Las Columnas [Renta] y [Sexo] son de datos de tipo object, por lo que se debe hacer un tratamiento previo para su utilización.\n",
        "*  Podemos deducir que todas las columnas que presenten **2 únicos datos** representan un booleano (True, False).\n",
        "*  Todas las columnas que no presentan valores nulos son de mucha ayuda para poder predecir sucesos.\n",
        "\n"
      ]
    },
    {
      "cell_type": "markdown",
      "metadata": {
        "id": "eDKSiFJHjWz5"
      },
      "source": [
        "## Fase 3: Data Preparation"
      ]
    },
    {
      "cell_type": "markdown",
      "metadata": {
        "id": "1898_fXUmbyz"
      },
      "source": [
        "Eliminación"
      ]
    },
    {
      "cell_type": "code",
      "execution_count": 197,
      "metadata": {
        "colab": {
          "base_uri": "https://localhost:8080/"
        },
        "id": "X6GPUnXBmb6Z",
        "outputId": "31ca9d53-5906-4376-85ac-db4076247699"
      },
      "outputs": [
        {
          "output_type": "stream",
          "name": "stderr",
          "text": [
            "IOPub data rate exceeded.\n",
            "The notebook server will temporarily stop sending output\n",
            "to the client in order to avoid crashing it.\n",
            "To change this limit, set the config variable\n",
            "`--NotebookApp.iopub_data_rate_limit`.\n",
            "\n",
            "Current values:\n",
            "NotebookApp.iopub_data_rate_limit=1000000.0 (bytes/sec)\n",
            "NotebookApp.rate_limit_window=3.0 (secs)\n",
            "\n"
          ]
        }
      ],
      "source": [
        "cols_to_drop = ['IndRev_T12', 'IndRev_T11', 'IndRev_T10', 'IndRev_T09', 'IndRev_T08', 'IndRev_T07', 'IndRev_T06', 'IndRev_T05', 'IndRev_T04', 'IndRev_T03', 'IndRev_T02', 'IndRev_T01']\n",
        "\n",
        "# Verificar si cada columna en cols_to_drop existe en el DataFrame antes de eliminarla\n",
        "for columna in cols_to_drop:\n",
        "    if columna in df.columns:\n",
        "        df.drop(columns=[columna], inplace=True)\n",
        "\n",
        "# Mostrar el DataFrame después de eliminar las columnas\n",
        "print(df)\n"
      ]
    },
    {
      "cell_type": "code",
      "execution_count": 198,
      "metadata": {
        "id": "oKcpV_ersAV9"
      },
      "outputs": [],
      "source": [
        "df = df.drop(columns=[\"Id\"])"
      ]
    },
    {
      "cell_type": "markdown",
      "metadata": {
        "id": "fbbMZzlJksea"
      },
      "source": [
        "###Imputación de datos por la moda"
      ]
    },
    {
      "cell_type": "code",
      "execution_count": 199,
      "metadata": {
        "id": "GYhFHlWckcRM"
      },
      "outputs": [],
      "source": [
        "moda_team = df['Sexo'].mode()[0]\n",
        "df['Sexo'].fillna(moda_team, inplace=True)"
      ]
    },
    {
      "cell_type": "code",
      "execution_count": 200,
      "metadata": {
        "id": "05Gbvvmqkiii"
      },
      "outputs": [],
      "source": [
        "moda_team = df['Region'].mode()[0]\n",
        "df['Region'].fillna(moda_team, inplace=True)"
      ]
    },
    {
      "cell_type": "code",
      "execution_count": 201,
      "metadata": {
        "colab": {
          "base_uri": "https://localhost:8080/"
        },
        "id": "fR_24Z3KkhwI",
        "outputId": "0725e5b2-15b3-45c3-e388-3c2650e70885"
      },
      "outputs": [
        {
          "output_type": "stream",
          "name": "stdout",
          "text": [
            "Cantidad de valores nulos en la columna 'Region': 0\n",
            "Cantidad de valores nulos en la columna 'Sexo': 0\n"
          ]
        }
      ],
      "source": [
        "nulos_en_region = df['Region'].isnull().sum()\n",
        "nulos_en_sexo = df['Sexo'].isnull().sum()\n",
        "# Imprimir la cantidad de nulos en la columna 'Region'\n",
        "print(\"Cantidad de valores nulos en la columna 'Region':\", nulos_en_region)\n",
        "print(\"Cantidad de valores nulos en la columna 'Sexo':\", nulos_en_sexo)"
      ]
    },
    {
      "cell_type": "markdown",
      "metadata": {
        "id": "H2eeypWnkrdZ"
      },
      "source": [
        "Notamos que entre las columnas FlgAct_T12 y UsoLI_T02 hay muchos datos nulos, y estos hacen referencia a dinero y/o cantidad de transacciones lo cual es extraño en un banco ya que este no perdera informacion de cobros y/o pagos, por ende asumimos que esos valores son nulos, por ende buscaremos el numero de esas columnas y cambiaremos los nulos por 0"
      ]
    },
    {
      "cell_type": "markdown",
      "metadata": {
        "id": "_Odd1mlCpmUT"
      },
      "source": [
        "###Imputación de datos con 0"
      ]
    },
    {
      "cell_type": "code",
      "execution_count": 202,
      "metadata": {
        "colab": {
          "base_uri": "https://localhost:8080/"
        },
        "id": "Nv_OMz3pkqe3",
        "outputId": "347ed44b-0fef-404a-b043-b220b04f69db"
      },
      "outputs": [
        {
          "output_type": "stream",
          "name": "stdout",
          "text": [
            "Cantidad de valores nulos en la columna 'CambioPin': 0\n"
          ]
        }
      ],
      "source": [
        "# Rellenar los valores nulos en la columna \"CambioPin\" con 0 (no tiene)\n",
        "df['CambioPin'].fillna(0, inplace=True)\n",
        "# Contar la cantidad de valores nulos en la columna 'CambioPin'\n",
        "nulos_en_pin = df['CambioPin'].isnull().sum()\n",
        "\n",
        "# Imprimir la cantidad de nulos en la columna 'CambioPin'\n",
        "print(\"Cantidad de valores nulos en la columna 'CambioPin':\", nulos_en_pin)"
      ]
    },
    {
      "cell_type": "code",
      "execution_count": 203,
      "metadata": {
        "colab": {
          "base_uri": "https://localhost:8080/"
        },
        "id": "0AD7uXL7ku38",
        "outputId": "3a475c18-9ab4-41d7-f34c-a69397071c81"
      },
      "outputs": [
        {
          "output_type": "stream",
          "name": "stdout",
          "text": [
            "Columna FlgAct_T12 es el número 20\n",
            "Columna UsoLI_T02 es el número 514\n",
            "Renta             2734\n",
            "CUPO_L2              9\n",
            "TxsCCOT_T01          1\n",
            "FacCOL_T01           1\n",
            "TxsCOL_T01           1\n",
            "FacDebCom_T01        1\n",
            "TxsDebCom_T01        1\n",
            "FacDebAtm_T01        1\n",
            "TxsDebAtm_T01        1\n",
            "Col_T01              1\n",
            "ColL1T0_T01          1\n",
            "ColL1TE_T01          1\n",
            "ColL2T0_T01          1\n",
            "ColL2AC_T01          1\n",
            "ColL2CC_T01          1\n",
            "ColMx_T01            1\n",
            "PagoNac_T01          1\n",
            "PagoInt_T01          1\n",
            "EeccNac_T01          1\n",
            "EeccInt_T01          1\n",
            "UsoL1_T01            1\n",
            "UsoL2_T01            1\n",
            "UsoLI_T01            1\n",
            "FacCCOT_T01          1\n",
            "TxsCCPC_T01          1\n",
            "FacCCPC_T01          1\n",
            "Fac_T01              1\n",
            "FlgAct_T01           1\n",
            "FlgActCN_T01         1\n",
            "FlgActCI_T01         1\n",
            "FlgActAN_T01         1\n",
            "FlgActAI_T01         1\n",
            "FlgActPAT_T01        1\n",
            "FlgActCCPC_T01       1\n",
            "FlgActCCOT_T01       1\n",
            "FlgActCOL_T01        1\n",
            "Txs_T01              1\n",
            "TxsPAT_T01           1\n",
            "FacCN_T01            1\n",
            "TxsCN_T01            1\n",
            "FacCI_T01            1\n",
            "TxsCI_T01            1\n",
            "FacAN_T01            1\n",
            "TxsAN_T01            1\n",
            "FacAI_T01            1\n",
            "TxsAI_T01            1\n",
            "FacPAT_T01           1\n",
            "target               1\n",
            "dtype: int64\n"
          ]
        }
      ],
      "source": [
        "# Obtiene la posición de la columna \"FlgAct_T12\"\n",
        "posicion_FlgAct_T12 = df.columns.get_loc(\"FlgAct_T12\")\n",
        "print(f'Columna FlgAct_T12 es el número {posicion_FlgAct_T12}')\n",
        "\n",
        "# Obtiene la posición de la columna \"UsoLI_T02\"\n",
        "posicion_UsoLI_T02 = df.columns.get_loc(\"UsoLI_T02\")\n",
        "print(f'Columna UsoLI_T02 es el número {posicion_UsoLI_T02}')\n",
        "\n",
        "# Convierte las columnas en tipo numérico\n",
        "df.iloc[:, 20:515] = df.iloc[:, 20:515].apply(pd.to_numeric, errors='coerce')\n",
        "\n",
        "# Rellena los valores nulos en las columnas desde la posición 20 hasta la 514 con 0\n",
        "df.iloc[:, 20:515] = df.iloc[:, 20:515].fillna(0)\n",
        "\n",
        "# Calcula la cantidad de valores nulos en el DataFrame\n",
        "null_counts = df.isnull().sum()\n",
        "\n",
        "# Ordena las columnas por la cantidad de valores nulos de forma descendente\n",
        "null_counts = null_counts[null_counts > 0].sort_values(ascending=False)\n",
        "\n",
        "# Muestra la cantidad de valores nulos ordenados\n",
        "print(null_counts)"
      ]
    },
    {
      "cell_type": "code",
      "execution_count": 204,
      "metadata": {
        "colab": {
          "base_uri": "https://localhost:8080/"
        },
        "id": "sTAEk8IgqJ50",
        "outputId": "2c0af31d-69b3-4d90-e1d9-a18805bb6039"
      },
      "outputs": [
        {
          "output_type": "stream",
          "name": "stdout",
          "text": [
            "FlgAct_T12\n"
          ]
        }
      ],
      "source": [
        "nombre_columna_20 = df.columns[20]\n",
        "print(nombre_columna_20)"
      ]
    },
    {
      "cell_type": "code",
      "execution_count": 205,
      "metadata": {
        "colab": {
          "base_uri": "https://localhost:8080/"
        },
        "id": "vu5mJgWZsS20",
        "outputId": "606e66c5-b400-4c70-ceaa-79605ed7a159"
      },
      "outputs": [
        {
          "output_type": "stream",
          "name": "stdout",
          "text": [
            "Existe una cantidad total de nulos de: 0\n"
          ]
        }
      ],
      "source": [
        "from sklearn.impute import KNNImputer\n",
        "columnas_con_nulos = df.columns[df.isnull().any()]\n",
        "\n",
        "# Filtrar el DataFrame solo para incluir las columnas con nulos\n",
        "df_con_nulos = df[columnas_con_nulos]\n",
        "\n",
        "\n",
        "imputer = KNNImputer(n_neighbors=100, weights ='uniform')\n",
        "\n",
        "# Imputar los valores nulos en las columnas seleccionadas\n",
        "df_imputed = imputer.fit_transform(df_con_nulos)\n",
        "\n",
        "# Crear un nuevo DataFrame con los valores imputados\n",
        "df_imputed = pd.DataFrame(df_imputed, columns=df_con_nulos.columns)\n",
        "\n",
        "# Actualizar el DataFrame original con los valores imputados\n",
        "df[df_con_nulos.columns] = df_imputed\n",
        "\n",
        "\n",
        "#imprimir la cantidad de nulos\n",
        "totalNulos = df.isnull().sum().sum()\n",
        "print(\"Existe una cantidad total de nulos de:\", totalNulos)"
      ]
    },
    {
      "cell_type": "code",
      "execution_count": 206,
      "metadata": {
        "colab": {
          "base_uri": "https://localhost:8080/"
        },
        "id": "b9nxGV3Zqo2p",
        "outputId": "e747799c-df67-4eac-a83b-c92f588bd3cc"
      },
      "outputs": [
        {
          "output_type": "stream",
          "name": "stdout",
          "text": [
            "Existe una cantidad total de nulos de: 0\n"
          ]
        }
      ],
      "source": [
        "# Contar la cantidad de valores nulos por columna\n",
        "\n",
        "# se comenta la siguiene linea para optimizacion den github\n",
        "null_counts = pd.DataFrame(df.isnull().sum(), columns=['Valores Nulos'])\n",
        "\n",
        "# Mostrar la tabla de valores nulos\n",
        "pd.set_option('display.max_rows', None)\n",
        "# print(null_counts)\n",
        "totalNulos = df.isnull().sum().sum()\n",
        "print(\"Existe una cantidad total de nulos de:\", totalNulos)"
      ]
    },
    {
      "cell_type": "markdown",
      "metadata": {
        "id": "xUCDUc11segd"
      },
      "source": [
        "Basándonos en las imputaciones realizadas, se podría inferir lo sigueinte:\n",
        "\n",
        " - Límites de Crédito ([CUPO_L1], [CUPO_MX], [CUPO_L2]): Estos límites establecidos por los bancos suelen ser una representación directa de la confianza financiera que tienen en el cliente. En general, los bancos tienden a otorgar límites más altos a aquellos clientes que cuentan con ingresos más elevados y una sólida historial crediticio.\n",
        "\n",
        "- Comportamiento de Gasto ([Col_Tx], [EeccInt_TX], [EeccNac_TX], etc.): Estos valores nos proporcionan una visión detallada del comportamiento de gasto de un cliente en un período específico. Es lógico pensar que aquellos con mayores ingresos tienden a gastar más, aunque es esencial no basarse únicamente en esta suposición y considerar otros factores.\n",
        "\n",
        "- Pagos [PagoInt_TX], [PagoNac_TX]): Estos valores no solo reflejan la capacidad de un cliente para administrar y saldar sus deudas, sino que también pueden ser un indicador de la estabilidad y salud de su situación financiera.\n",
        "\n",
        "Indicadores de actividad:\n",
        "\n",
        "Las variables que comienzan con [FlgAct_TX] podrían ser útiles para entender la **actividad del cliente**, pero no está claro si están directamente correlacionadas con los ingresos.\n",
        "Para seleccionar las características más relevantes para tu modelo, puedes emplear técnicas estadísticas como el análisis de correlación para identificar qué variables están más correlacionadas con \"Renta\". También podrías usar la importancia de características en modelos basados en árboles para obtener una idea de qué variables son las más influyentes. Es importante recordar que la correlación no implica causalidad, por lo que es esencial interpretar los resultados con precaución y conocimiento del dominio."
      ]
    },
    {
      "cell_type": "markdown",
      "metadata": {
        "id": "x6A31cWls4PS"
      },
      "source": [
        "###Tratando datos numericos"
      ]
    },
    {
      "cell_type": "markdown",
      "metadata": {
        "id": "yaWvSvT_s5Aw"
      },
      "source": [
        "La imputación y el tratamiento de las variables analizadas están sujetos a cambios. La metodología CRISP-DM, que es un marco de referencia estructurado para llevar a cabo proyectos de minería de datos, enfatiza la necesidad de revisar y refinar continuamente el proceso de preparación y modelado de datos. En las fases iniciales de un proyecto, como la comprensión del negocio y la comprensión de los datos, se identifican requisitos y se toman **decisiones iniciales** sobre cómo manejar los datos. Sin embargo, a medida que se avanza hacia las fases de modelado y evaluación, puede surgir la necesidad de revisar esas decisiones iniciales basadas en los resultados obtenidos o en una comprensión más profunda del problema.\n",
        "\n",
        "Adicionalmente, es esencial recalcar que los modelos de análisis de datos son iterativos por naturaleza. En la práctica, rara vez se logra un modelo óptimo en el primer intento. A medida que se desarrollan y prueban modelos, se obtienen nuevas perspectivas que pueden llevar a la reevaluación y modificación de cómo se tratan los datos. Esto puede incluir, pero no se limita a, cambiar métodos de imputación, seleccionar diferentes características, transformar variables, entre otros.\n",
        "\n",
        "Por tanto, es vital mantener una mentalidad abierta y flexible durante el proceso de análisis. Los nuevos requerimientos o hallazgos pueden surgir, y adaptarse a ellos es fundamental para garantizar que los modelos desarrollados sean robustos, relevantes y proporcionen resultados significativos y accionables. Es esencial para cualquier científico de datos o analista estar dispuesto a volver atrás y hacer ajustes según sea necesario, basándose en la retroalimentación, los resultados y la evolución del entendimiento del problema."
      ]
    },
    {
      "cell_type": "markdown",
      "metadata": {
        "id": "nowHo09fs5Jn"
      },
      "source": [
        "## TARGET REGRESIÓN Y CLASIFICACIÓN\n"
      ]
    },
    {
      "cell_type": "markdown",
      "metadata": {
        "id": "RJtGlg4Cs57E"
      },
      "source": [
        "### Regresión"
      ]
    },
    {
      "cell_type": "markdown",
      "metadata": {
        "id": "IeSbEA43z3Yq"
      },
      "source": [
        "\n",
        "#### Target numérico continuo [CUPO_L2]\n",
        "\n",
        "Predicción de la Línea de Crédito para Avances en Cuotas Futura (CUPO_L2): Utilizando las características disponibles, puedes construir un modelo de regresión diseñado para anticipar el valor de la línea de crédito para avances en cuotas (CUPO_L2) en el futuro. Este enfoque te proporciona la capacidad de estimar cuánto crédito en avances en cuotas un cliente podría requerir o estar dispuesto a utilizar en períodos próximos."
      ]
    },
    {
      "cell_type": "markdown",
      "metadata": {
        "id": "QnOZtL5Ks6Kc"
      },
      "source": [
        "### Clasificación"
      ]
    },
    {
      "cell_type": "markdown",
      "metadata": {
        "id": "FhYZIY5JtMRq"
      },
      "source": [
        "###HTML CODE\n"
      ]
    },
    {
      "cell_type": "markdown",
      "metadata": {
        "id": "LSMvHH27jr_G"
      },
      "source": [
        "## Evaluación 2"
      ]
    },
    {
      "cell_type": "markdown",
      "metadata": {
        "id": "ZVFRzfH_kN4C"
      },
      "source": [
        "###Correlación y selección de características a usar en las predicciones"
      ]
    },
    {
      "cell_type": "markdown",
      "metadata": {
        "id": "edoAjkAa8h1R"
      },
      "source": [
        "Para comprender mejor cómo las diversas características se relacionan con la variable objetivo CUPO_L2 en nuestro conjunto de datos, hemos calculado los coeficientes de correlación. Estos coeficientes indican la magnitud y dirección de la relación lineal entre cada característica y CUPO_L2. A continuación, se presenta un análisis de las principales relaciones:\n",
        "\n",
        "CUPO_L1 (0.17): La variable CUPO_L1 tiene una correlación positiva moderada con CUPO_L2. Esto sugiere que un aumento en CUPO_L1 está asociado con un aumento en CUPO_L2, lo que indica una posible relación entre los límites de crédito.\n",
        "\n",
        "Antigüedad (0.14): La antigüedad del cliente también muestra una correlación positiva, lo que sugiere que los clientes con más tiempo en la institución financiera tienden a tener límites de crédito más altos para avances en cuotas (CUPO_L2).\n",
        "\n",
        "CUPO_MX (0.13): Similar a CUPO_L1, CUPO_MX también tiene una correlación positiva con CUPO_L2, lo que podría indicar que los límites de crédito para compras internacionales están relacionados con los límites de crédito para avances en cuotas.\n",
        "\n",
        "Edad (0.13): La edad del cliente muestra una correlación positiva, lo que sugiere que los clientes más jóvenes pueden tener límites de crédito más bajos para avances en cuotas.\n",
        "\n",
        "TC (0.12): El número de tarjetas de crédito (TC) que tiene el cliente también tiene una correlación positiva, lo que implica que los clientes con más tarjetas de crédito pueden tener límites de crédito más altos para avances en cuotas.\n",
        "\n",
        "Subsegmento (0.11): El subsegmento al que pertenece el cliente muestra una correlación positiva. Esto indica que los diferentes subsegmentos pueden tener diferentes límites de crédito para avances en cuotas.\n",
        "\n",
        "Renta (0.11): La renta del cliente está positivamente correlacionada, lo que sugiere que los clientes con ingresos más altos pueden tener límites de crédito más altos.\n",
        "\n",
        "Cuentas (0.10): El número de cuentas que tiene el cliente muestra una correlación positiva, lo que implica que los clientes con más cuentas pueden tener límites de crédito más altos.\n",
        "\n",
        "Dualidad (0.10): El indicador de dualidad (si el cliente tiene 2 o más TC) tiene una correlación positiva, lo que sugiere que los clientes con múltiples tarjetas de crédito pueden tener límites de crédito más altos.\n",
        "\n",
        "Hipotecario (0.09): El indicador de crédito hipotecario muestra una correlación positiva, lo que sugiere que los clientes con créditos hipotecarios pueden tener límites de crédito más altos.\n",
        "\n",
        "En resumen, estas correlaciones nos proporcionan información sobre cómo diferentes características pueden estar relacionadas con los límites de crédito para avances en cuotas (CUPO_L2). Es importante tener en cuenta que la correlación no implica causalidad, y otras variables y análisis son necesarios para comprender completamente estas relaciones. Además, características como Consumo muestran una correlación cercana a cero, lo que sugiere una relación limitada con CUPO_L2."
      ]
    },
    {
      "cell_type": "markdown",
      "metadata": {
        "id": "u3sHeBPAx3g7"
      },
      "source": [
        "## Fase 4: Modeling"
      ]
    },
    {
      "cell_type": "markdown",
      "metadata": {
        "id": "-W5-u_VCjUMU"
      },
      "source": [
        "### REGRESIÓN"
      ]
    },
    {
      "cell_type": "markdown",
      "metadata": {
        "id": "zCknOce-AUJZ"
      },
      "source": [
        "#### Librerías"
      ]
    },
    {
      "cell_type": "code",
      "execution_count": 207,
      "metadata": {
        "id": "4yn1FtIM_tzw"
      },
      "outputs": [],
      "source": [
        "from sklearn.model_selection import train_test_split\n",
        "from sklearn.metrics import r2_score, mean_absolute_error, mean_squared_error\n",
        "from sklearn.preprocessing import StandardScaler\n",
        "from sklearn import model_selection\n",
        "from sklearn.model_selection import cross_val_score, KFold\n",
        "\n",
        "from sklearn.linear_model import ElasticNet\n",
        "from sklearn.linear_model import LinearRegression\n",
        "from sklearn.neighbors import KNeighborsRegressor\n",
        "\n",
        "import warnings\n",
        "warnings.filterwarnings(\"ignore\")"
      ]
    },
    {
      "cell_type": "markdown",
      "metadata": {
        "id": "vszEWKi7jaOS"
      },
      "source": [
        " **   Función para entrenar y evaluar un modelo**"
      ]
    },
    {
      "cell_type": "code",
      "execution_count": 208,
      "metadata": {
        "id": "FD5bHL1wDX7r"
      },
      "outputs": [],
      "source": [
        "result_dict = {}"
      ]
    },
    {
      "cell_type": "code",
      "execution_count": 209,
      "metadata": {
        "id": "fi640oTfAeXh"
      },
      "outputs": [],
      "source": [
        "def entrenar_modelo(modelo,\n",
        "                    name_of_y_col: str,\n",
        "                    names_of_x_cols: list,\n",
        "                    dataset: pd.DataFrame,\n",
        "                    test_frac: float=0.2,\n",
        "                  ):\n",
        "\n",
        "    df_regresion = df[['Antiguedad', 'Renta','Monoproducto','Hipotecario','Ctacte', 'Edad','TC','Cuentas', 'Dualidad',\n",
        "                       'CUPO_L1', 'CUPO_MX','CUPO_L2']]\n",
        "\n",
        "    X = df_regresion.drop(['CUPO_L2'], axis=1)\n",
        "\n",
        "    Y = df['CUPO_L2']\n",
        "\n",
        "    x_train, x_test, y_train, y_test = train_test_split(X, Y, test_size=test_frac, random_state=42)\n",
        "\n",
        "    model = modelo.fit(x_train, y_train)\n",
        "\n",
        "    y_pred = model.predict(x_test)\n",
        "\n",
        "    #print(\"Entrenamiento_R2 : \" , model.score(x_train, y_train))\n",
        "    print(\"Prueba_R2 : \", r2_score(y_test, y_pred))\n",
        "\n",
        "    print(\"Prueba_MSE : \", mean_squared_error(y_test, y_pred))\n",
        "    print(\"Prueba_RMSE : \", np.sqrt(mean_squared_error(y_test, y_pred)))\n",
        "\n",
        "    return {\n",
        "            'Entrenamiento_score': model.score(x_train, y_train),\n",
        "            'Prueba_score': r2_score(y_test, y_pred)\n",
        "           }\n",
        "\n",
        "\n",
        "\n"
      ]
    },
    {
      "cell_type": "code",
      "execution_count": 210,
      "metadata": {
        "id": "Pzwd5k3uKOxo"
      },
      "outputs": [],
      "source": [
        "# Funcion para comparar los resultados de los modelos\n",
        "#se van a almacenar en un diccionario\n",
        "def compare_results():\n",
        "    for key in result_dict:\n",
        "        print('Regresion: ', key)\n",
        "        print('Entrenamiento score', result_dict[key]['Entrenamiento_score'])\n",
        "        print('Prueba score', result_dict[key]['Prueba_score'])\n",
        "        print()"
      ]
    },
    {
      "cell_type": "markdown",
      "metadata": {
        "id": "R6LkE99fjj6s"
      },
      "source": [
        "####Regrsión Lineal múltiple"
      ]
    },
    {
      "cell_type": "code",
      "execution_count": 211,
      "metadata": {
        "colab": {
          "base_uri": "https://localhost:8080/"
        },
        "id": "NVZLK4xcjkJ3",
        "outputId": "fcbe060e-467e-4f31-b725-7f87bdf44491"
      },
      "outputs": [
        {
          "output_type": "stream",
          "name": "stdout",
          "text": [
            "Prueba_R2 :  0.037576873053454474\n",
            "Prueba_MSE :  621394716217.7731\n",
            "Prueba_RMSE :  788285.935570192\n"
          ]
        }
      ],
      "source": [
        "result_dict['CUPO_L2_linear'] = entrenar_modelo(\n",
        "                              LinearRegression(),\n",
        "                              'CUPO_L2',\n",
        "                              ['Antiguedad', 'Renta','Monoproducto','Hipotecario','Ctacte', 'Edad','TC','Cuentas', 'Dualidad',\n",
        "                              'CUPO_L1', 'CUPO_MX'],\n",
        "                               df)"
      ]
    },
    {
      "cell_type": "markdown",
      "metadata": {
        "id": "F0UXdobyjkX0"
      },
      "source": [
        "####Regresión ElasticNet"
      ]
    },
    {
      "cell_type": "code",
      "execution_count": 212,
      "metadata": {
        "colab": {
          "base_uri": "https://localhost:8080/"
        },
        "id": "DY4xysjRjkj0",
        "outputId": "b8eee01c-8066-4332-f036-701423b9c3a6"
      },
      "outputs": [
        {
          "output_type": "stream",
          "name": "stdout",
          "text": [
            "Prueba_R2 :  0.03298362697781099\n",
            "Prueba_MSE :  624360375252.535\n",
            "Prueba_RMSE :  790164.7772791034\n"
          ]
        }
      ],
      "source": [
        "result_dict['CUPO_L2_Elastic'] = entrenar_modelo(ElasticNet(alpha=1, l1_ratio=0.5,\n",
        "                                        max_iter= 100000,\n",
        "                                        warm_start= True),\n",
        "                                       'CUPO_L2',\n",
        "                                        ['Antiguedad', 'Renta','Monoproducto','Hipotecario','Ctacte', 'Edad','TC','Cuentas', 'Dualidad',\n",
        "                                       'CUPO_L1', 'CUPO_MX'],\n",
        "                                       df)\n"
      ]
    },
    {
      "cell_type": "code",
      "execution_count": 213,
      "metadata": {
        "colab": {
          "base_uri": "https://localhost:8080/"
        },
        "id": "g79gNq-ODoWK",
        "outputId": "8c2e584a-8113-4ceb-9c0a-afef32e7ff1a"
      },
      "outputs": [
        {
          "output_type": "stream",
          "name": "stdout",
          "text": [
            "Regresion:  CUPO_L2_linear\n",
            "Entrenamiento score 0.027124646614807957\n",
            "Prueba score 0.037576873053454474\n",
            "\n",
            "Regresion:  CUPO_L2_Elastic\n",
            "Entrenamiento score 0.025377671145170644\n",
            "Prueba score 0.03298362697781099\n",
            "\n"
          ]
        }
      ],
      "source": [
        "compare_results()"
      ]
    },
    {
      "cell_type": "markdown",
      "metadata": {
        "id": "_Yg0IrUFjkr_"
      },
      "source": [
        "Regresión KNR"
      ]
    },
    {
      "cell_type": "code",
      "execution_count": 214,
      "metadata": {
        "colab": {
          "base_uri": "https://localhost:8080/"
        },
        "id": "wp2o8Z72jk1H",
        "outputId": "fd16043e-acf1-4b03-f2d6-ff91a96fe3d7"
      },
      "outputs": [
        {
          "output_type": "stream",
          "name": "stdout",
          "text": [
            "Prueba_R2 :  -0.054204540748142405\n",
            "Prueba_MSE :  680653979619.1575\n",
            "Prueba_RMSE :  825017.5632186005\n"
          ]
        }
      ],
      "source": [
        "result_dict['CUPO_L2_KNR'] = entrenar_modelo(KNeighborsRegressor(n_neighbors=10),\n",
        "                                       'CUPO_L2',\n",
        "                                        ['Antiguedad', 'Renta','Monoproducto','Hipotecario','Ctacte', 'Edad','TC','Cuentas', 'Dualidad',\n",
        "                                      'CUPO_L1', 'CUPO_MX'],\n",
        "                                       df)\n"
      ]
    },
    {
      "cell_type": "markdown",
      "metadata": {
        "id": "EwDMPR6knFg_"
      },
      "source": [
        "COMPARAMOS RESULTADOS\n",
        "\n",
        "Analizar la varianza de los resultados para obtener los que tengan mejor resultado."
      ]
    },
    {
      "cell_type": "code",
      "execution_count": 215,
      "metadata": {
        "colab": {
          "base_uri": "https://localhost:8080/"
        },
        "id": "7IykoWWfnG-Q",
        "outputId": "de148f19-f6b1-4329-d063-0f906906681d"
      },
      "outputs": [
        {
          "output_type": "stream",
          "name": "stdout",
          "text": [
            "Regresion:  CUPO_L2_linear\n",
            "Entrenamiento score 0.027124646614807957\n",
            "Prueba score 0.037576873053454474\n",
            "\n",
            "Regresion:  CUPO_L2_Elastic\n",
            "Entrenamiento score 0.025377671145170644\n",
            "Prueba score 0.03298362697781099\n",
            "\n",
            "Regresion:  CUPO_L2_KNR\n",
            "Entrenamiento score 0.12916375870652919\n",
            "Prueba score -0.054204540748142405\n",
            "\n"
          ]
        }
      ],
      "source": [
        "compare_results()"
      ]
    },
    {
      "cell_type": "code",
      "execution_count": 216,
      "metadata": {
        "id": "EOjm6vykD1_y"
      },
      "outputs": [],
      "source": [
        "nombre_modelos = result_dict.keys()\n",
        "resultados_prueba = {} # crear diccionario vacio\n",
        "for nombre in nombre_modelos:\n",
        "    resultados_prueba[nombre] = result_dict[nombre]['Prueba_score']"
      ]
    },
    {
      "cell_type": "code",
      "execution_count": 217,
      "metadata": {
        "colab": {
          "base_uri": "https://localhost:8080/",
          "height": 620
        },
        "id": "pxS4J2jvD2Ho",
        "outputId": "076dcc1f-b27a-482a-9bb3-70d2d7220295"
      },
      "outputs": [
        {
          "output_type": "display_data",
          "data": {
            "text/plain": [
              "<Figure size 1200x1000 with 1 Axes>"
            ],
            "image/png": "[encoded data removed]"
          },
          "metadata": {}
        }
      ],
      "source": [
        "plt.figure(figsize = (12,10)) # tamaño de la figura\n",
        "plt.barh(range(len(resultados_prueba)), list(resultados_prueba.values()),\n",
        "        align='center', );\n",
        "plt.title(\"Resultados en el dataset de pruebas de cada modelo\")\n",
        "plt.yticks(range(len(resultados_prueba)), list(resultados_prueba.keys()));"
      ]
    },
    {
      "cell_type": "markdown",
      "metadata": {
        "id": "fyif30IwEB8c"
      },
      "source": [
        "####Comparando Modelos - CROSS VALIDATION"
      ]
    },
    {
      "cell_type": "code",
      "execution_count": 218,
      "metadata": {
        "id": "LKIqLbukD_rq"
      },
      "outputs": [],
      "source": [
        "models = []\n",
        "\n",
        "# Alamcenando los modelos como una tupla (nombre, modelo)\n",
        "models.append(('CUPO_L2_Linear',LinearRegression()))\n",
        "models.append(('CUPO_L2_Elastic',ElasticNet(alpha=1,\n",
        "                                            l1_ratio=0.5,\n",
        "                                            max_iter= 100000,\n",
        "                                            warm_start= True)))\n",
        "models.append(('CUPO_L2_KNR',KNeighborsRegressor(n_neighbors=10)))"
      ]
    },
    {
      "cell_type": "markdown",
      "metadata": {
        "id": "MVTAQTJfQUAT"
      },
      "source": [
        "### EL CLASIFICADOR ELEGIDO ES CUPO_L2_LINEAR"
      ]
    },
    {
      "cell_type": "markdown",
      "metadata": {
        "id": "4xt4TDokvtm3"
      },
      "source": [
        "Es el que tiene mejores resultados\n",
        "Prueba_R2 :  0.04517329077203258\n",
        "Prueba_MSE :  499258418660.7424\n",
        "Prueba_RMSE :  706582.2094142637"
      ]
    },
    {
      "cell_type": "markdown",
      "metadata": {
        "id": "jVqPfYDtELHi"
      },
      "source": [
        "### CLASIFICACIÓN"
      ]
    },
    {
      "cell_type": "markdown",
      "metadata": {
        "id": "V3_tIhNMEq_i"
      },
      "source": [
        "#### Librerías"
      ]
    },
    {
      "cell_type": "code",
      "execution_count": 219,
      "metadata": {
        "id": "U2bY41bPErob"
      },
      "outputs": [],
      "source": [
        "from sklearn.model_selection import train_test_split\n",
        "from sklearn.metrics import accuracy_score\n",
        "from sklearn.metrics import precision_score\n",
        "from sklearn.metrics import recall_score\n",
        "from sklearn.metrics import f1_score\n",
        "\n",
        "from sklearn.linear_model import LogisticRegression\n",
        "from sklearn.discriminant_analysis import LinearDiscriminantAnalysis\n",
        "from sklearn.discriminant_analysis import QuadraticDiscriminantAnalysis\n",
        "from sklearn.linear_model import SGDClassifier\n",
        "from sklearn.svm import LinearSVC\n",
        "from sklearn.neighbors import RadiusNeighborsClassifier\n",
        "from sklearn.naive_bayes import GaussianNB\n",
        "from sklearn.tree import DecisionTreeClassifier"
      ]
    },
    {
      "cell_type": "code",
      "execution_count": 220,
      "metadata": {
        "colab": {
          "base_uri": "https://localhost:8080/"
        },
        "id": "0up10kXgEr1y",
        "outputId": "59bb2293-767d-46be-e033-b1f81b9884d8"
      },
      "outputs": [
        {
          "output_type": "execute_result",
          "data": {
            "text/plain": [
              "['Antiguedad',\n",
              " 'internauta',\n",
              " 'Region',\n",
              " 'Monoproducto',\n",
              " 'Ctacte',\n",
              " 'Edad',\n",
              " 'TC',\n",
              " 'Cuentas',\n",
              " 'Debito',\n",
              " 'CambioPin']"
            ]
          },
          "metadata": {},
          "execution_count": 220
        }
      ],
      "source": [
        "['Antiguedad','internauta', 'Region', 'Monoproducto','Ctacte', 'Edad','TC','Cuentas', 'Debito','CambioPin']"
      ]
    },
    {
      "cell_type": "code",
      "execution_count": 221,
      "metadata": {
        "id": "MTe1h-DbEsCq"
      },
      "outputs": [],
      "source": [
        "def classification(y_test, y_pred):\n",
        "\n",
        "    acc = accuracy_score(y_test, y_pred, normalize=True)\n",
        "    f1_ac = f1_score(y_test, y_pred)\n",
        "\n",
        "    prec = precision_score(y_test, y_pred)\n",
        "    recall = recall_score(y_test, y_pred)\n",
        "\n",
        "    return {'accuracy': acc,\n",
        "            'precision': prec,\n",
        "            'recall':recall,\n",
        "            'F1':f1_ac}"
      ]
    },
    {
      "cell_type": "code",
      "execution_count": 222,
      "metadata": {
        "id": "qTbdqAh7E82N"
      },
      "outputs": [],
      "source": [
        "df_clasificación = df[['Antiguedad', 'Internauta', 'Region', 'Monoproducto',\n",
        "                       'Ctacte', 'Edad', 'TC', 'Cuentas', 'Debito', 'CambioPin', ]]\n",
        "\n",
        "X = df_clasificación.drop(['Internauta'], axis=1)\n",
        "\n",
        "Y = df['Internauta']\n",
        "\n",
        "x_train, x_test, y_train, y_test = train_test_split(\n",
        "    X, Y, test_size=0.2)\n",
        "\n"
      ]
    },
    {
      "cell_type": "code",
      "execution_count": 223,
      "metadata": {
        "id": "Dfg6m-Yqvtm4"
      },
      "outputs": [],
      "source": [
        "lr = LogisticRegression(solver='liblinear')\n",
        "sgdc = SGDClassifier(max_iter=1001)\n",
        "dt = DecisionTreeClassifier(max_depth=5)\n"
      ]
    },
    {
      "cell_type": "markdown",
      "metadata": {
        "id": "nrrIw0g5vtm4"
      },
      "source": [
        "### Clasificaciones"
      ]
    },
    {
      "cell_type": "markdown",
      "metadata": {
        "id": "UU7YcgfXF4mr"
      },
      "source": [
        "####Comparando Modelos - CROSS VALIDATION"
      ]
    },
    {
      "cell_type": "code",
      "execution_count": 167,
      "metadata": {
        "id": "h-q-kE8vFrrV"
      },
      "outputs": [],
      "source": [
        "# entrenar los modelos\n",
        "lr.fit(x_train, y_train)\n",
        "sgdc.fit(x_train, y_train)\n",
        "dt.fit(x_train, y_train)\n",
        "\n",
        "modelos = [lr, sgdc, dt]\n",
        "\n"
      ]
    },
    {
      "cell_type": "markdown",
      "metadata": {
        "id": "yxcn6o5rvtm5"
      },
      "source": [
        "### Datos Logísticos"
      ]
    },
    {
      "cell_type": "code",
      "execution_count": 168,
      "metadata": {
        "colab": {
          "base_uri": "https://localhost:8080/"
        },
        "id": "lWJfX7Grvtm5",
        "outputId": "39930fc9-e33c-4858-b3c3-a689c4096140"
      },
      "outputs": [
        {
          "output_type": "stream",
          "name": "stdout",
          "text": [
            "LogisticRegression(solver='liblinear')\n",
            "\n",
            "[[ 233  820]\n",
            " [ 102 2273]]\n",
            "\n",
            "Suma Diagonal: 2506 de 3428\n",
            "\n",
            "SGDClassifier(max_iter=1001)\n",
            "\n",
            "[[  52 1001]\n",
            " [  15 2360]]\n",
            "\n",
            "Suma Diagonal: 2412 de 3428\n",
            "\n",
            "DecisionTreeClassifier(max_depth=5)\n",
            "\n",
            "[[ 216  837]\n",
            " [  84 2291]]\n",
            "\n",
            "Suma Diagonal: 2507 de 3428\n",
            "\n"
          ]
        }
      ],
      "source": [
        "# mostrar los resultados de matriz de confusión\n",
        "# importar la librerias\n",
        "from sklearn.metrics import confusion_matrix\n",
        "\n",
        "for model in modelos:\n",
        "    print(model)\n",
        "    print()\n",
        "    y_pred = model.predict(x_test)\n",
        "    cm = confusion_matrix(y_test, y_pred)\n",
        "    print(cm)\n",
        "    print(f'\\nSuma Diagonal: {cm.trace()} de {cm.sum()}')\n",
        "    print()\n"
      ]
    },
    {
      "cell_type": "markdown",
      "metadata": {
        "id": "-YaHDBP8vtm5"
      },
      "source": [
        "### Accuracy, sensibilidad, precisión y F1"
      ]
    },
    {
      "cell_type": "code",
      "execution_count": 169,
      "metadata": {
        "colab": {
          "base_uri": "https://localhost:8080/"
        },
        "id": "tu_Hi36Vvtm5",
        "outputId": "7eb9ba0e-4d3b-4b88-e172-23ac36e360b8"
      },
      "outputs": [
        {
          "output_type": "stream",
          "name": "stdout",
          "text": [
            "LogisticRegression(solver='liblinear')\n",
            "\n",
            "El accuracy del modelo es 0.73\n",
            "El precision del modelo es 0.73\n",
            "El recall del modelo es 0.96\n",
            "El f1-score del modelo es 0.83\n",
            "\n",
            "\n",
            "SGDClassifier(max_iter=1001)\n",
            "\n",
            "El accuracy del modelo es 0.70\n",
            "El precision del modelo es 0.70\n",
            "El recall del modelo es 0.99\n",
            "El f1-score del modelo es 0.82\n",
            "\n",
            "\n",
            "DecisionTreeClassifier(max_depth=5)\n",
            "\n",
            "El accuracy del modelo es 0.73\n",
            "El precision del modelo es 0.73\n",
            "El recall del modelo es 0.96\n",
            "El f1-score del modelo es 0.83\n",
            "\n",
            "\n"
          ]
        }
      ],
      "source": [
        "## acurracy, precision, recall, f1-score del los modelos\n",
        "from sklearn.metrics import accuracy_score, precision_score, recall_score, f1_score\n",
        "\n",
        "for model in modelos:\n",
        "    print(model)\n",
        "    print()\n",
        "    y_pred = model.predict(x_test)\n",
        "    print(\n",
        "        f'El accuracy del modelo es {accuracy_score(y_test, y_pred):.2f}')\n",
        "    print(\n",
        "        f'El precision del modelo es {precision_score(y_test, y_pred):.2f}')\n",
        "    print(\n",
        "        f'El recall del modelo es {recall_score(y_test, y_pred):.2f}')\n",
        "    print(\n",
        "        f'El f1-score del modelo es {f1_score(y_test, y_pred):.2f}\\n')\n",
        "    print()"
      ]
    },
    {
      "cell_type": "markdown",
      "metadata": {
        "id": "sxflqCKfvtm6"
      },
      "source": [
        "Se usará el clasificador SGDClassifier(max_iter=1001), es el mejor clasificador ya que tiene un accuracy parecido al resto pero tiene mejor sensibilidad siendo de un 98% de aciertos a los verdaderos positivos y verdaderos negativos"
      ]
    },
    {
      "cell_type": "markdown",
      "metadata": {
        "id": "yB8IRH30vtm6"
      },
      "source": [
        "### Curva ROC"
      ]
    },
    {
      "cell_type": "code",
      "execution_count": 170,
      "metadata": {
        "colab": {
          "base_uri": "https://localhost:8080/",
          "height": 1000
        },
        "id": "hLiul_A-vtm6",
        "outputId": "3ecd3318-0330-4ac1-e365-8619def5849f"
      },
      "outputs": [
        {
          "output_type": "stream",
          "name": "stdout",
          "text": [
            "LogisticRegression(solver='liblinear')\n",
            "\n",
            "El AUC del modelo es 0.59 - accuracy: 0.73 = Diferencia de -0.142 \n",
            "\n"
          ]
        },
        {
          "output_type": "display_data",
          "data": {
            "text/plain": [
              "<Figure size 1000x600 with 1 Axes>"
            ],
            "image/png": "[encoded data removed]"
          },
          "metadata": {}
        },
        {
          "output_type": "stream",
          "name": "stdout",
          "text": [
            "\n",
            "SGDClassifier(max_iter=1001)\n",
            "\n",
            "El AUC del modelo es 0.52 - accuracy: 0.73 = Diferencia de -0.210 \n",
            "\n"
          ]
        },
        {
          "output_type": "display_data",
          "data": {
            "text/plain": [
              "<Figure size 1000x600 with 1 Axes>"
            ],
            "image/png": "[encoded data removed]"
          },
          "metadata": {}
        },
        {
          "output_type": "stream",
          "name": "stdout",
          "text": [
            "\n",
            "DecisionTreeClassifier(max_depth=5)\n",
            "\n",
            "El AUC del modelo es 0.58 - accuracy: 0.70 = Diferencia de -0.119 \n",
            "\n"
          ]
        },
        {
          "output_type": "display_data",
          "data": {
            "text/plain": [
              "<Figure size 1000x600 with 1 Axes>"
            ],
            "image/png": "[encoded data removed]"
          },
          "metadata": {}
        },
        {
          "output_type": "stream",
          "name": "stdout",
          "text": [
            "\n"
          ]
        }
      ],
      "source": [
        "### graficar la curva ROC para los modelos y calcular el AUC y comparar con el accuracy\n",
        "from sklearn.metrics import roc_curve, roc_auc_score\n",
        "\n",
        "for model in modelos:\n",
        "    print(model)\n",
        "    print()\n",
        "    accuracy = accuracy_score(y_test, y_pred)\n",
        "    y_pred = model.predict(x_test)\n",
        "    fpr, tpr, thresholds = roc_curve(y_test, y_pred)\n",
        "    print(\n",
        "        f'El AUC del modelo es {roc_auc_score(y_test, y_pred):.2f} - accuracy: {accuracy:.2f} = Diferencia de {(roc_auc_score(y_test, y_pred) - accuracy):.3f} ')\n",
        "    print()\n",
        "\n",
        "    plt.figure(figsize=(10, 6))\n",
        "    plt.plot(fpr, tpr, label='ROC Curve')\n",
        "    plt.plot([0, 1], [0, 1], 'k--', label='Random Guessing')\n",
        "    plt.xlabel('False Positive Rate')\n",
        "    plt.ylabel('True Positive Rate')\n",
        "    plt.title(f'ROC Curve for {model}')\n",
        "    plt.legend()\n",
        "    plt.show()\n",
        "    print()"
      ]
    },
    {
      "cell_type": "markdown",
      "metadata": {
        "id": "PZg_gC4bvtm6"
      },
      "source": [
        "### Balanceo"
      ]
    },
    {
      "cell_type": "markdown",
      "metadata": {
        "id": "fW9WL9zKvtm6"
      },
      "source": [
        "Dado a que los datos no se encuentran desproporcionados no se decide realizar balanceo"
      ]
    },
    {
      "cell_type": "markdown",
      "metadata": {
        "id": "0s4LRhY3vtm6"
      },
      "source": [
        "### Mejores Características"
      ]
    },
    {
      "cell_type": "code",
      "execution_count": 171,
      "metadata": {
        "colab": {
          "base_uri": "https://localhost:8080/"
        },
        "id": "RUsbXmxwvtm6",
        "outputId": "ad48e874-852f-465a-b243-f0187b746487"
      },
      "outputs": [
        {
          "output_type": "stream",
          "name": "stdout",
          "text": [
            "La característica Antiguedad tiene un score de 0.06\n",
            "La característica Region tiene un score de 0.07\n",
            "La característica Monoproducto tiene un score de 0.18\n",
            "La característica Ctacte tiene un score de 0.34\n",
            "La característica Edad tiene un score de 0.25\n",
            "La característica TC tiene un score de 0.01\n",
            "La característica Cuentas tiene un score de 0.01\n",
            "La característica Debito tiene un score de 0.07\n",
            "La característica CambioPin tiene un score de 0.01\n"
          ]
        }
      ],
      "source": [
        "# importar librerias\n",
        "from sklearn.metrics import classification_report\n",
        "\n",
        "# entrenamiento random forest\n",
        "from sklearn.ensemble import RandomForestClassifier\n",
        "\n",
        "rf = RandomForestClassifier(n_estimators=100, max_depth=5)\n",
        "rf.fit(x_train, y_train)\n",
        "\n",
        "\n",
        "for score, name in zip(rf.feature_importances_, x_train.columns):\n",
        "    print(f'La característica {name} tiene un score de {score:.2f}')\n"
      ]
    }
  ],
  "metadata": {
    "colab": {
      "provenance": []
    },
    "kernelspec": {
      "display_name": "Python 3",
      "name": "python3"
    },
    "language_info": {
      "codemirror_mode": {
        "name": "ipython",
        "version": 3
      },
      "file_extension": ".py",
      "mimetype": "text/x-python",
      "name": "python",
      "nbconvert_exporter": "python",
      "pygments_lexer": "ipython3",
      "version": "3.10.11"
    }
  },
  "nbformat": 4,
  "nbformat_minor": 0
}